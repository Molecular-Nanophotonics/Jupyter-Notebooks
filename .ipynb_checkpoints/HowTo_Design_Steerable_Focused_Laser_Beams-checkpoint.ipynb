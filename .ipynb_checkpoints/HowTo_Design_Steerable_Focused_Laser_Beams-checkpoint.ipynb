{
 "cells": [
  {
   "cell_type": "markdown",
   "metadata": {},
   "source": [
    "# How to Design a Steerable Focused Laser Beam"
   ]
  },
  {
   "cell_type": "markdown",
   "metadata": {},
   "source": [
    "This notebooks shows how to properly design a steerable focused laser beam. \n",
    "\n",
    "## References \n",
    "1. E. Fällman and O. Axner, Design for Fully Steerable Dual-Trap Optical Tweezers, <a href='https://doi.org/10.1364/AO.36.002107'><i>Appl. Opt.</i> <b>36</b></a>, 2107 (1997)"
   ]
  },
  {
   "cell_type": "markdown",
   "metadata": {},
   "source": [
    "## Required packages"
   ]
  },
  {
   "cell_type": "code",
   "execution_count": 2,
   "metadata": {
    "collapsed": true
   },
   "outputs": [],
   "source": [
    "import numpy as np\n",
    "pi = np.pi\n",
    "from matplotlib import pyplot as plt\n",
    "%matplotlib inline"
   ]
  },
  {
   "cell_type": "markdown",
   "metadata": {},
   "source": [
    "## How to Design a Movable Beam in the *x* and the *y* Directions\n",
    "\n",
    "See Fig. 1 in Ref. 1"
   ]
  },
  {
   "cell_type": "code",
   "execution_count": 7,
   "metadata": {},
   "outputs": [
    {
     "name": "stdout",
     "output_type": "stream",
     "text": [
      "dG3: 31.9 mm\n",
      "hO: 5.7 mm\n",
      "r = 55.0 µm\n",
      "r3 = 0.3 cm\n",
      "r4 = 1.7 cm\n"
     ]
    }
   ],
   "source": [
    "f3 = 35.\n",
    "f4 = 200.\n",
    "d4O = 300 # can be ≠ f4\n",
    "dG3 = f3/f4*(f3 + f4 - f3/f4*d4O)\n",
    "print(\"dG3: %.1f mm\" % dG3)\n",
    "hG = 1 # size of the laser at the galvanometer scanner or acusto-optical deflector in mm\n",
    "hO = f4/f3*hG # sizes of the laser beam at the entrance aperture of the microscope objective in mm (approx. 5 mm)\n",
    "print(\"hO: %.1f mm\" % (hO))\n",
    "fEFL = 1.8 # effective focal length of the objective in mm\n",
    "thetamax = 5; # maximum deflection angle\n",
    "r = 2*fEFL*f3/f4*thetamax*(np.pi/180)*1e3 # maximum displacment in sample plane in µm\n",
    "print(\"r = %.1f µm\" % r)\n",
    "print(\"r3 = %.1f cm\" % (dG3*np.tan(thetamax*np.pi/180)*0.1)) # maximum displacment on lense 3 in cm\n",
    "print(\"r4 = %.1f cm\" % (f4*np.tan(thetamax*np.pi/180)*0.1)) # maximum displacment on lense 4 in cm"
   ]
  },
  {
   "cell_type": "code",
   "execution_count": null,
   "metadata": {
    "collapsed": true
   },
   "outputs": [],
   "source": []
  }
 ],
 "metadata": {
  "anaconda-cloud": {},
  "kernelspec": {
   "display_name": "Python 3",
   "language": "python",
   "name": "python3"
  },
  "language_info": {
   "codemirror_mode": {
    "name": "ipython",
    "version": 3
   },
   "file_extension": ".py",
   "mimetype": "text/x-python",
   "name": "python",
   "nbconvert_exporter": "python",
   "pygments_lexer": "ipython3",
   "version": "3.6.3"
  }
 },
 "nbformat": 4,
 "nbformat_minor": 2
}
