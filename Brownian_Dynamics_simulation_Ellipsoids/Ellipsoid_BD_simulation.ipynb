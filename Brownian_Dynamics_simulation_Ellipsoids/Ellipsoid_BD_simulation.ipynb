{
 "cells": [
  {
   "cell_type": "code",
   "execution_count": 135,
   "id": "9bdd23cb-ff93-46c3-9b14-7301e3ed67ac",
   "metadata": {},
   "outputs": [
    {
     "data": {
      "text/html": [
       "<style>.container { width:100% !important; }</style>"
      ],
      "text/plain": [
       "<IPython.core.display.HTML object>"
      ]
     },
     "metadata": {},
     "output_type": "display_data"
    },
    {
     "data": {
      "text/html": [
       "<style>.container { width:100% !important; }</style>"
      ],
      "text/plain": [
       "<IPython.core.display.HTML object>"
      ]
     },
     "metadata": {},
     "output_type": "display_data"
    }
   ],
   "source": [
    "from IPython.core.display import display, HTML\n",
    "display(HTML(\"<style>.container { width:100% !important; }</style>\"))\n",
    "\n",
    "import numpy as np\n",
    "from numpy.random import uniform, normal, randn, rayleigh\n",
    "from numpy.linalg import norm\n",
    "import pandas as pd\n",
    "import pickle\n",
    "\n",
    "import matplotlib.pyplot as plt\n",
    "%matplotlib inline\n",
    "%config InlineBackend.figure_format = 'retina'\n",
    "from IPython.core.display import display, HTML\n",
    "display(HTML(\"<style>.container { width:100% !important; }</style>\"))\n",
    "fontsize_general = 16\n",
    "plt.rcParams.update({'font.size': fontsize_general,\n",
    "                     'axes.titlesize': fontsize_general,\n",
    "                     'axes.labelsize': fontsize_general,\n",
    "                     'axes.labelpad': 8,\n",
    "                     'lines.linewidth': 2,\n",
    "                     'lines.markersize': 8,\n",
    "                     'xtick.labelsize' : 14,\n",
    "                     'ytick.labelsize' : 14,\n",
    "                     'xtick.top' : True,\n",
    "                     'xtick.direction' : 'in',\n",
    "                     'ytick.right' : True,\n",
    "                     'ytick.direction' : 'in'})\n"
   ]
  },
  {
   "cell_type": "code",
   "execution_count": 136,
   "id": "10865a0d-bc7d-4833-8d8d-f9c00da188ca",
   "metadata": {},
   "outputs": [],
   "source": [
    "from scipy import constants\n",
    "r_JP = 1.5e-6/2 #m\n",
    "T = 300 # K\n",
    "viscosity_water = 2.414*10**(247.8/(T-140)-5) # Ns/m^2\n",
    "k_B = constants.k\n",
    "#mu_trans = 1/(6*np.pi * viscosity_water *r_JP) #m/Ns\n",
    "#mu_rot = 1/(8*np.pi * viscosity_water *r_JP**3) #1/Nsm\n",
    "#print('mu_trans = {:.3} Ns/m'.format(mu_trans))\n",
    "\n",
    "#D_t = k_B*T*mu_trans\n",
    "#D_r = k_B*T*mu_rot"
   ]
  },
  {
   "cell_type": "markdown",
   "id": "9edae65f-c719-403a-91b5-2240e587f934",
   "metadata": {},
   "source": [
    "# define the simulation"
   ]
  },
  {
   "cell_type": "code",
   "execution_count": 137,
   "id": "64289475-3479-4a15-a324-7837b398a2be",
   "metadata": {},
   "outputs": [],
   "source": [
    "class LangevinSimulator_Ellipsoids:\n",
    "    def __init__(self):\n",
    "        #system parameters\n",
    "        # physical parameters\n",
    "        from scipy import constants\n",
    "        \n",
    "        # Set a seed for the generator of random numbers\n",
    "        #np.random.seed(0)\n",
    "        \n",
    "        # Simualtion parameters\n",
    "        self.dt = 0.02 # [s]\n",
    "        self.steps = 100\n",
    "        \n",
    "        # Ellipsoid parameters\n",
    "        self.L_major = 3 # [µm]\n",
    "        self.L_minor = 0.5 # [µm]\n",
    "        self.T = 300 # [K]\n",
    "        \n",
    "        # translational diffusion coeff.\n",
    "        self.Dt_minor = 0.1 # [µm^2/s]\n",
    "        self.Dt_major = 0.2 # [µm^2/s]\n",
    "        \n",
    "        # translational friction coeff.\n",
    "        self.mu_trans_minor = self.Dt_minor/constants.k/self.T # [µm / Ns]\n",
    "        self.mu_trans_major = self.Dt_major/constants.k/self.T # [µm / Ns]\n",
    "        \n",
    "        # rotational diffusion coeff.\n",
    "        self.Dr_minor = 0.2 # [1/s]\n",
    "        self.Dr_major = 2 # [1/s]\n",
    "        \n",
    "        # rotational friction coeff.\n",
    "        self.mu_rot_minor = self.Dr_minor/constants.k/self.T  # [1 / Nsµm]\n",
    "        self.mu_rot_major = self.Dr_major/constants.k/self.T  # [1 / Nsµm]\n",
    "        \n",
    "        # activity parameters\n",
    "        self.v = 1\n",
    "        self.k_alignment = np.sqrt(self.Dr_major*self.dt) #1\n",
    "        \n",
    "        #initial conditions\n",
    "        self.x0 = 0\n",
    "        self.y0 = 0\n",
    "        \n",
    "        self.azimuthal0 = 0\n",
    "        self.polar0 = 0\n",
    "        \n",
    "    def run_overdamped(self):\n",
    "        import time\n",
    "        inital_time = time.time()\n",
    "        \n",
    "        steps = self.steps\n",
    "        dt = self.dt\n",
    "        \n",
    "        x, y, z = np.empty([3, steps+1])\n",
    "        azimuthal, polar = np.empty([2, steps+1])\n",
    "        \n",
    "        x[0], y[0] = self.x0, self.y0\n",
    "        azimuthal[0], polar[0] = self.azimuthal0, self.polar0\n",
    "        \n",
    "        #translational noise\n",
    "        bath_trans_minor = np.sqrt(2*self.Dt_minor*dt) * normal(size=(steps+1)) \n",
    "        bath_trans_major = np.sqrt(2*self.Dt_major*dt) * normal(size=(steps+1))\n",
    "        \n",
    "        #angle noise\n",
    "        bath_angle_incr_minor = np.sqrt(2*self.Dr_minor*dt) * normal(size=steps+1)\n",
    "        bath_angle_incr_major = np.sqrt(2*self.Dr_major*dt) * normal(size=steps+1)\n",
    "        \n",
    "        progress = 1\n",
    "        for i in range(1, steps+1):\n",
    "            \n",
    "            if (i*100)//steps == progress:\n",
    "                print('{:.2g} % progress; computation time: {:.3g} min; aprox total time = {:.3g} min'.format(progress, (time.time() - inital_time)/60, (time.time() - inital_time)/60/progress*100))\n",
    "                progress += 1\n",
    "            \n",
    "            # POSITION UPDATE\n",
    "            x[i] = x[i-1] + ( bath_trans_minor[i-1]*np.cos(azimuthal[i-1]) \n",
    "                             - bath_trans_major[i-1]*np.sin(azimuthal[i-1])\n",
    "                             + self.v*dt * np.cos(azimuthal[i-1]) * np.sin(polar[i-1])\n",
    "                            )\n",
    "            y[i] = y[i-1] + ( bath_trans_minor[i-1]*np.sin(azimuthal[i-1]) \n",
    "                             + bath_trans_major[i-1]*np.cos(azimuthal[i-1])\n",
    "                             + self.v*dt * np.sin(azimuthal[i-1]) * np.sin(polar[i-1])\n",
    "                            )\n",
    "            \n",
    "            # ORIENTATION UPDATE\n",
    "            polar[i] = polar[i-1] + bath_angle_incr_major[i-1] + self.v*dt * self.k_alignment * np.cos(polar[i-1]) * np.sign(np.sin(polar[i-1]))\n",
    "            azimuthal[i] = azimuthal[i-1] + bath_angle_incr_minor[i-1]\n",
    "            \n",
    "            \n",
    "            ## APPLY WALL CONFINEMENT - circular soft wall (wall strentgh = 1 is already quite hard...)\n",
    "            #r_sq = x[i]**2 + y[i]**2\n",
    "            #wall_strength = 1\n",
    "            #if r_sq > self.wall_radius_sq:\n",
    "            #    x[i] += -x[i]/self.wall_radius * np.sqrt(D*dt) * wall_strength\n",
    "            #    y[i] += -y[i]/self.wall_radius * np.sqrt(D*dt) * wall_strength\n",
    "            \n",
    "            \n",
    "        self.Calculation_time_min = (time.time() - inital_time)/60\n",
    "        self.x, self.y = x, y\n",
    "        self.polar, self.azimuthal = polar, azimuthal\n",
    "\n",
    "        \n",
    "    def save(self, filename):\n",
    "        np.savetxt(filename, np.c_[self.x, self.y, self.polar, self.azimuthal], header=\"# x, y, polar, azimuthal\")\n",
    "        \n",
    "        \n",
    "        "
   ]
  },
  {
   "cell_type": "markdown",
   "id": "bd47abc4-a60b-4eba-a381-88812315ed33",
   "metadata": {},
   "source": [
    "# run the sim"
   ]
  },
  {
   "cell_type": "code",
   "execution_count": 138,
   "id": "36d4c97d-177e-43f8-9fcf-b93ad012a079",
   "metadata": {},
   "outputs": [
    {
     "name": "stdout",
     "output_type": "stream",
     "text": [
      "1 % progress; computation time: 0.000754 min; aprox total time = 0.0754 min\n",
      "2 % progress; computation time: 0.00122 min; aprox total time = 0.061 min\n",
      "3 % progress; computation time: 0.00163 min; aprox total time = 0.0543 min\n",
      "4 % progress; computation time: 0.00206 min; aprox total time = 0.0516 min\n",
      "5 % progress; computation time: 0.00246 min; aprox total time = 0.0493 min\n",
      "6 % progress; computation time: 0.00282 min; aprox total time = 0.0469 min\n",
      "7 % progress; computation time: 0.00313 min; aprox total time = 0.0447 min\n",
      "8 % progress; computation time: 0.00347 min; aprox total time = 0.0433 min\n",
      "9 % progress; computation time: 0.00379 min; aprox total time = 0.0421 min\n",
      "10 % progress; computation time: 0.00411 min; aprox total time = 0.0411 min\n",
      "11 % progress; computation time: 0.00443 min; aprox total time = 0.0402 min\n",
      "12 % progress; computation time: 0.00476 min; aprox total time = 0.0397 min\n",
      "13 % progress; computation time: 0.00509 min; aprox total time = 0.0391 min\n",
      "14 % progress; computation time: 0.00542 min; aprox total time = 0.0387 min\n",
      "15 % progress; computation time: 0.00574 min; aprox total time = 0.0382 min\n",
      "16 % progress; computation time: 0.00605 min; aprox total time = 0.0378 min\n",
      "17 % progress; computation time: 0.00637 min; aprox total time = 0.0374 min\n",
      "18 % progress; computation time: 0.00668 min; aprox total time = 0.0371 min\n",
      "19 % progress; computation time: 0.007 min; aprox total time = 0.0369 min\n",
      "20 % progress; computation time: 0.00732 min; aprox total time = 0.0366 min\n",
      "21 % progress; computation time: 0.00763 min; aprox total time = 0.0364 min\n",
      "22 % progress; computation time: 0.00796 min; aprox total time = 0.0362 min\n",
      "23 % progress; computation time: 0.00827 min; aprox total time = 0.036 min\n",
      "24 % progress; computation time: 0.0086 min; aprox total time = 0.0358 min\n",
      "25 % progress; computation time: 0.00894 min; aprox total time = 0.0357 min\n",
      "26 % progress; computation time: 0.00926 min; aprox total time = 0.0356 min\n",
      "27 % progress; computation time: 0.00958 min; aprox total time = 0.0355 min\n",
      "28 % progress; computation time: 0.0099 min; aprox total time = 0.0353 min\n",
      "29 % progress; computation time: 0.0102 min; aprox total time = 0.0352 min\n",
      "30 % progress; computation time: 0.0105 min; aprox total time = 0.0351 min\n",
      "31 % progress; computation time: 0.0108 min; aprox total time = 0.035 min\n",
      "32 % progress; computation time: 0.0112 min; aprox total time = 0.0349 min\n",
      "33 % progress; computation time: 0.0115 min; aprox total time = 0.0348 min\n",
      "34 % progress; computation time: 0.0118 min; aprox total time = 0.0347 min\n",
      "35 % progress; computation time: 0.0121 min; aprox total time = 0.0346 min\n",
      "36 % progress; computation time: 0.0125 min; aprox total time = 0.0346 min\n",
      "37 % progress; computation time: 0.0128 min; aprox total time = 0.0345 min\n",
      "38 % progress; computation time: 0.0131 min; aprox total time = 0.0345 min\n",
      "39 % progress; computation time: 0.0134 min; aprox total time = 0.0344 min\n",
      "40 % progress; computation time: 0.0137 min; aprox total time = 0.0343 min\n",
      "41 % progress; computation time: 0.014 min; aprox total time = 0.0342 min\n",
      "42 % progress; computation time: 0.0143 min; aprox total time = 0.0342 min\n",
      "43 % progress; computation time: 0.0147 min; aprox total time = 0.0341 min\n",
      "44 % progress; computation time: 0.015 min; aprox total time = 0.034 min\n",
      "45 % progress; computation time: 0.0153 min; aprox total time = 0.034 min\n",
      "46 % progress; computation time: 0.0156 min; aprox total time = 0.0339 min\n",
      "47 % progress; computation time: 0.0159 min; aprox total time = 0.0339 min\n",
      "48 % progress; computation time: 0.0162 min; aprox total time = 0.0338 min\n",
      "49 % progress; computation time: 0.0166 min; aprox total time = 0.0338 min\n",
      "50 % progress; computation time: 0.0169 min; aprox total time = 0.0338 min\n",
      "51 % progress; computation time: 0.0172 min; aprox total time = 0.0338 min\n",
      "52 % progress; computation time: 0.0175 min; aprox total time = 0.0337 min\n",
      "53 % progress; computation time: 0.0179 min; aprox total time = 0.0337 min\n",
      "54 % progress; computation time: 0.0182 min; aprox total time = 0.0337 min\n",
      "55 % progress; computation time: 0.0185 min; aprox total time = 0.0336 min\n",
      "56 % progress; computation time: 0.0188 min; aprox total time = 0.0336 min\n",
      "57 % progress; computation time: 0.0191 min; aprox total time = 0.0335 min\n",
      "58 % progress; computation time: 0.0194 min; aprox total time = 0.0335 min\n",
      "59 % progress; computation time: 0.0198 min; aprox total time = 0.0335 min\n",
      "60 % progress; computation time: 0.0201 min; aprox total time = 0.0334 min\n",
      "61 % progress; computation time: 0.0204 min; aprox total time = 0.0334 min\n",
      "62 % progress; computation time: 0.0207 min; aprox total time = 0.0334 min\n",
      "63 % progress; computation time: 0.021 min; aprox total time = 0.0334 min\n",
      "64 % progress; computation time: 0.0214 min; aprox total time = 0.0334 min\n",
      "65 % progress; computation time: 0.0217 min; aprox total time = 0.0333 min\n",
      "66 % progress; computation time: 0.022 min; aprox total time = 0.0333 min\n",
      "67 % progress; computation time: 0.0223 min; aprox total time = 0.0333 min\n",
      "68 % progress; computation time: 0.0226 min; aprox total time = 0.0333 min\n",
      "69 % progress; computation time: 0.023 min; aprox total time = 0.0333 min\n",
      "70 % progress; computation time: 0.0233 min; aprox total time = 0.0333 min\n",
      "71 % progress; computation time: 0.0236 min; aprox total time = 0.0333 min\n",
      "72 % progress; computation time: 0.0239 min; aprox total time = 0.0332 min\n",
      "73 % progress; computation time: 0.0243 min; aprox total time = 0.0332 min\n",
      "74 % progress; computation time: 0.0246 min; aprox total time = 0.0332 min\n",
      "75 % progress; computation time: 0.0249 min; aprox total time = 0.0332 min\n",
      "76 % progress; computation time: 0.0252 min; aprox total time = 0.0332 min\n",
      "77 % progress; computation time: 0.0255 min; aprox total time = 0.0331 min\n",
      "78 % progress; computation time: 0.0258 min; aprox total time = 0.0331 min\n",
      "79 % progress; computation time: 0.0261 min; aprox total time = 0.0331 min\n",
      "80 % progress; computation time: 0.0264 min; aprox total time = 0.0331 min\n",
      "81 % progress; computation time: 0.0268 min; aprox total time = 0.033 min\n",
      "82 % progress; computation time: 0.0271 min; aprox total time = 0.033 min\n",
      "83 % progress; computation time: 0.0274 min; aprox total time = 0.033 min\n",
      "84 % progress; computation time: 0.0277 min; aprox total time = 0.033 min\n",
      "85 % progress; computation time: 0.028 min; aprox total time = 0.033 min\n",
      "86 % progress; computation time: 0.0284 min; aprox total time = 0.033 min\n",
      "87 % progress; computation time: 0.0287 min; aprox total time = 0.033 min\n",
      "88 % progress; computation time: 0.0291 min; aprox total time = 0.033 min\n",
      "89 % progress; computation time: 0.0294 min; aprox total time = 0.033 min\n",
      "90 % progress; computation time: 0.0297 min; aprox total time = 0.033 min\n",
      "91 % progress; computation time: 0.03 min; aprox total time = 0.033 min\n",
      "92 % progress; computation time: 0.0303 min; aprox total time = 0.033 min\n",
      "93 % progress; computation time: 0.0306 min; aprox total time = 0.0329 min\n",
      "94 % progress; computation time: 0.0309 min; aprox total time = 0.0329 min\n",
      "95 % progress; computation time: 0.0313 min; aprox total time = 0.0329 min\n",
      "96 % progress; computation time: 0.0316 min; aprox total time = 0.0329 min\n",
      "97 % progress; computation time: 0.0319 min; aprox total time = 0.0329 min\n",
      "98 % progress; computation time: 0.0322 min; aprox total time = 0.0329 min\n",
      "99 % progress; computation time: 0.0325 min; aprox total time = 0.0329 min\n",
      "1e+02 % progress; computation time: 0.0329 min; aprox total time = 0.0329 min\n"
     ]
    }
   ],
   "source": [
    "Lsim = LangevinSimulator_Ellipsoids()\n",
    "Lsim.steps = int(1e5)\n",
    "Lsim.k_alignment = 5\n",
    "\n",
    "Lsim.run_overdamped()"
   ]
  },
  {
   "cell_type": "code",
   "execution_count": null,
   "id": "cf4829e6-32f7-402e-9886-72d13e9f8e06",
   "metadata": {},
   "outputs": [],
   "source": []
  },
  {
   "cell_type": "code",
   "execution_count": 139,
   "id": "7b126cef-40c4-4a8d-9fdc-9268be148eb2",
   "metadata": {},
   "outputs": [
    {
     "data": {
      "image/png": "[encoded data removed]",
      "text/plain": [
       "<Figure size 360x360 with 1 Axes>"
      ]
     },
     "metadata": {
      "image/png": {
       "height": 340,
       "width": 340
      },
      "needs_background": "light"
     },
     "output_type": "display_data"
    }
   ],
   "source": [
    "fig, ax = plt.subplots(1,1,figsize = (5,5))\n",
    "ax.set_ylabel('counts')\n",
    "ax.set_xlabel('polar angle [rad]')\n",
    "\n",
    "ax.hist(np.arccos(np.cos(Lsim.polar)), bins = 20)\n",
    "plt.tight_layout()\n",
    "#plt.savefig('hist_polar_angle.pdf')\n",
    "plt.show()"
   ]
  },
  {
   "cell_type": "code",
   "execution_count": 140,
   "id": "b9bd8421-4a3b-4bdc-a5a1-a365f3e076e6",
   "metadata": {},
   "outputs": [
    {
     "name": "stdout",
     "output_type": "stream",
     "text": [
      "nth 1\n"
     ]
    }
   ],
   "source": [
    "nth = int(1)\n",
    "dt_s = Lsim.dt * nth\n",
    "print('nth',nth)\n",
    "df = pd.DataFrame({'x': Lsim.x[::nth]\n",
    "                      ,'y':Lsim.y[::nth]\n",
    "                      ,'nz':np.cos(Lsim.polar[::nth])\n",
    "                      ,'nx_particle_frame':np.sin(Lsim.polar[::nth])\n",
    "                      ,'orientation':Lsim.azimuthal[::nth]\n",
    "                      ,'direction_measure': np.sin(Lsim.polar[::nth])\n",
    "                      ,'minor_axis_length': np.zeros(len(Lsim.x))[::nth] +Lsim.L_minor\n",
    "                      ,'major_axis_length': np.zeros(len(Lsim.x))[::nth] +Lsim.L_major\n",
    "                      ,'summed_intensity': np.zeros(len(Lsim.x))[::nth] +np.cos(Lsim.polar[::nth]) + 2\n",
    "                      ,'frame':np.arange(0,int(len(Lsim.x)/nth))\n",
    "                      ,'particle': np.zeros(len(Lsim.x))[::nth]\n",
    "                       ,'int_sum':np.zeros(len(Lsim.x))[::nth] +np.cos(Lsim.polar[::nth]) + 2\n",
    "                      })"
   ]
  },
  {
   "cell_type": "code",
   "execution_count": 145,
   "id": "d595053f-4060-4658-b573-be9ed992fc04",
   "metadata": {},
   "outputs": [],
   "source": [
    "metadata = pd.DataFrame([{'sim':'yes'}])"
   ]
  },
  {
   "cell_type": "markdown",
   "id": "80f3eb60-3ec1-4bd2-8be6-1d4f57ca356f",
   "metadata": {},
   "source": [
    "# safe to csv similar to trackerlab\n",
    "\n",
    "please uncomment the to_csv   it is commented here because it would generate files in the github dir here."
   ]
  },
  {
   "cell_type": "code",
   "execution_count": 146,
   "id": "b6ed0b7b-c2c7-4e5a-a8db-3770a4fcefb2",
   "metadata": {},
   "outputs": [],
   "source": [
    "file = 'Ellipsoid_sim_features.csv'\n",
    "\n",
    "#metadata.to_csv(file, mode='w')  \n",
    "#df.to_csv(file, mode='a')"
   ]
  },
  {
   "cell_type": "code",
   "execution_count": 147,
   "id": "2d9555ab-75a7-44b7-a9bb-7be9d051ed14",
   "metadata": {},
   "outputs": [],
   "source": [
    "def loadCSVFeatures(file):\n",
    "    comments = ''\n",
    "    with open(file) as f:\n",
    "        row_count = 0\n",
    "        row = f.readline()\n",
    "        while row.startswith('#'):\n",
    "            comments += row[1:] # remove leading # and append to comments\n",
    "            row = f.readline()\n",
    "            row_count += 1\n",
    "    metadata = pd.read_csv(file, skiprows=row_count, nrows=1, index_col=0).to_dict('records')[0]\n",
    "    features = pd.read_csv(file, skiprows=row_count + 2, index_col=0)\n",
    "    return features, metadata, comments\n",
    "features, metadata, comments = loadCSVFeatures(file)"
   ]
  },
  {
   "cell_type": "code",
   "execution_count": 148,
   "id": "7431b81c-ef37-47e6-8111-e12343e7d142",
   "metadata": {},
   "outputs": [
    {
     "data": {
      "text/plain": [
       "{'sim': 'yes'}"
      ]
     },
     "execution_count": 148,
     "metadata": {},
     "output_type": "execute_result"
    }
   ],
   "source": [
    "metadata"
   ]
  },
  {
   "cell_type": "code",
   "execution_count": 149,
   "id": "d80d0b66-ca39-42e2-b16f-d997b89f987f",
   "metadata": {},
   "outputs": [
    {
     "data": {
      "text/plain": [
       "''"
      ]
     },
     "execution_count": 149,
     "metadata": {},
     "output_type": "execute_result"
    }
   ],
   "source": [
    "comments"
   ]
  },
  {
   "cell_type": "code",
   "execution_count": 150,
   "id": "4c146c1c-369b-4f3b-8482-8bb50d632c65",
   "metadata": {},
   "outputs": [
    {
     "data": {
      "text/html": [
       "<div>\n",
       "<style scoped>\n",
       "    .dataframe tbody tr th:only-of-type {\n",
       "        vertical-align: middle;\n",
       "    }\n",
       "\n",
       "    .dataframe tbody tr th {\n",
       "        vertical-align: top;\n",
       "    }\n",
       "\n",
       "    .dataframe thead th {\n",
       "        text-align: right;\n",
       "    }\n",
       "</style>\n",
       "<table border=\"1\" class=\"dataframe\">\n",
       "  <thead>\n",
       "    <tr style=\"text-align: right;\">\n",
       "      <th></th>\n",
       "      <th>x</th>\n",
       "      <th>y</th>\n",
       "      <th>nz</th>\n",
       "      <th>nx_particle_frame</th>\n",
       "      <th>orientation</th>\n",
       "      <th>direction_measure</th>\n",
       "      <th>minor_axis_length</th>\n",
       "      <th>major_axis_length</th>\n",
       "      <th>summed_intensity</th>\n",
       "      <th>frame</th>\n",
       "      <th>particle</th>\n",
       "      <th>int_sum</th>\n",
       "    </tr>\n",
       "  </thead>\n",
       "  <tbody>\n",
       "    <tr>\n",
       "      <th>0</th>\n",
       "      <td>0.0</td>\n",
       "      <td>0.0</td>\n",
       "      <td>1.0</td>\n",
       "      <td>0.0</td>\n",
       "      <td>0.0</td>\n",
       "      <td>0.0</td>\n",
       "      <td>0.5</td>\n",
       "      <td>3.0</td>\n",
       "      <td>3.0</td>\n",
       "      <td>0</td>\n",
       "      <td>0.0</td>\n",
       "      <td>3.0</td>\n",
       "    </tr>\n",
       "  </tbody>\n",
       "</table>\n",
       "</div>"
      ],
      "text/plain": [
       "     x    y   nz  nx_particle_frame  orientation  direction_measure  \\\n",
       "0  0.0  0.0  1.0                0.0          0.0                0.0   \n",
       "\n",
       "   minor_axis_length  major_axis_length  summed_intensity  frame  particle  \\\n",
       "0                0.5                3.0               3.0      0       0.0   \n",
       "\n",
       "   int_sum  \n",
       "0      3.0  "
      ]
     },
     "execution_count": 150,
     "metadata": {},
     "output_type": "execute_result"
    }
   ],
   "source": [
    "features.head(1)"
   ]
  }
 ],
 "metadata": {
  "kernelspec": {
   "display_name": "Python 3 (ipykernel)",
   "language": "python",
   "name": "python3"
  },
  "language_info": {
   "codemirror_mode": {
    "name": "ipython",
    "version": 3
   },
   "file_extension": ".py",
   "mimetype": "text/x-python",
   "name": "python",
   "nbconvert_exporter": "python",
   "pygments_lexer": "ipython3",
   "version": "3.7.11"
  }
 },
 "nbformat": 4,
 "nbformat_minor": 5
}
