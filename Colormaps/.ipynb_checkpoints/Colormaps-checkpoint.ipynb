{
 "cells": [
  {
   "cell_type": "markdown",
   "metadata": {},
   "source": [
    "# Custom Colormaps"
   ]
  },
  {
   "cell_type": "code",
   "execution_count": 3,
   "metadata": {
    "collapsed": true
   },
   "outputs": [],
   "source": [
    "import numpy as np\n",
    "from matplotlib import colors, pyplot as plt\n",
    "import matplotlib as mpl\n",
    "%matplotlib inline\n",
    "\n",
    "import pickle"
   ]
  },
  {
   "cell_type": "markdown",
   "metadata": {},
   "source": [
    "### Colormap for Thioflavin T (ThT) "
   ]
  },
  {
   "cell_type": "code",
   "execution_count": 5,
   "metadata": {},
   "outputs": [
    {
     "data": {
      "image/png": "[encoded data removed]",
      "text/plain": [
       "<matplotlib.figure.Figure at 0x86cb160>"
      ]
     },
     "metadata": {},
     "output_type": "display_data"
    }
   ],
   "source": [
    "cdict = {'blue':  ((0.0, 0, 0),  \n",
    "                   (0.3, 1, 1),\n",
    "                   (1.0, 1, 1)),\n",
    "              \n",
    "         'green': ((0.0, 0, 0),\n",
    "                   (0.3, 0, 0),\n",
    "                   (0.7, 1, 1),\n",
    "                   (1.0, 1, 1)),\n",
    "              \n",
    "         'red':   ((0.0, 0, 0),\n",
    "                   (0.7, 0, 0),\n",
    "                   (1.0, 1, 1)),}\n",
    "\n",
    "cmap = colors.LinearSegmentedColormap('cmap_tht', cdict, 1024)\n",
    "pickle.dump(cmap, open('cmap_tht.pkl', 'wb'))\n",
    "fig, ax = plt.subplots(1, 1, figsize=(5, 0.5))\n",
    "cb = mpl.colorbar.ColorbarBase(ax, cmap=cmap, orientation='horizontal')"
   ]
  },
  {
   "cell_type": "code",
   "execution_count": null,
   "metadata": {
    "collapsed": true
   },
   "outputs": [],
   "source": []
  }
 ],
 "metadata": {
  "anaconda-cloud": {},
  "kernelspec": {
   "display_name": "Python 3",
   "language": "python",
   "name": "python3"
  },
  "language_info": {
   "codemirror_mode": {
    "name": "ipython",
    "version": 3
   },
   "file_extension": ".py",
   "mimetype": "text/x-python",
   "name": "python",
   "nbconvert_exporter": "python",
   "pygments_lexer": "ipython3",
   "version": "3.6.3"
  }
 },
 "nbformat": 4,
 "nbformat_minor": 1
}
