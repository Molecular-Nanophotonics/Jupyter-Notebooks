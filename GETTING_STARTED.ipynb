{
 "cells": [
  {
   "cell_type": "markdown",
   "metadata": {},
   "source": [
    "# Getting Started with Python in the Molecular Nanophotonics Group\n",
    "\n",
    "This Notebook gives an overview on how to handle experimental data in the Moledcular Nanophotoncis Group using Python. It explains how to work with the most commonly used file formats and provides a brief introduction to particle tracking and data analysis. <br>\n",
    "\n",
    "For a more general introduction to scientific computation using Python see: 'Link zu Franks Vorlesung'\n",
    "\n",
    "Authors: *Martin Fränzl, Prof. Dr. Frank Cichos*\n",
    " "
   ]
  },
  {
   "cell_type": "markdown",
   "metadata": {},
   "source": [
    "## Contents\n",
    "\n",
    "* [Loading TDMS Files](#Loading-TDMS-Files)\n",
    "* [Find Features](#Find-Features)\n",
    "* [Working with HDF5 Files](#Working-with-HDF5-Files)\n",
    "* [Link Trajectories](#Link-Trajectories)\n",
    "* [Handling Multiple Files](#Handling-Multiple-Files)"
   ]
  },
  {
   "cell_type": "markdown",
   "metadata": {},
   "source": [
    "## Default Packages"
   ]
  },
  {
   "cell_type": "code",
   "execution_count": 6,
   "metadata": {
    "collapsed": true
   },
   "outputs": [],
   "source": [
    "import numpy as np\n",
    "pi = np.pi\n",
    "import matplotlib.pyplot as plt\n",
    "%matplotlib inline"
   ]
  },
  {
   "cell_type": "markdown",
   "metadata": {},
   "source": [
    "To get this notebook to work the sample data and the notebook file must be located in the same directory. In general notebook files should be stored along with the experimental data for documentation. The sample data can be found here: \n",
    ">`.73/Sample Data`\n",
    "\n",
    "We recommend to copy large data files to your local drive since download speed from the servers can be quite slow sometimes. "
   ]
  },
  {
   "cell_type": "markdown",
   "metadata": {},
   "source": [
    "Set the path to the sample data:"
   ]
  },
  {
   "cell_type": "code",
   "execution_count": 126,
   "metadata": {
    "collapsed": true
   },
   "outputs": [],
   "source": [
    "path = 'E:\\Sample Data\\\\'"
   ]
  },
  {
   "cell_type": "markdown",
   "metadata": {
    "slideshow": {
     "slide_type": "notes"
    }
   },
   "source": [
    "## Loading TDMS Files\n",
    "\n",
    "All experimental data recorded with LabVIEW are stored as TDMS files. To learn more about the TDMS file format see http://www.ni.com/white-paper/3727/en/ <br>\n",
    "To load TDMS files into Python you need to import the package:"
   ]
  },
  {
   "cell_type": "code",
   "execution_count": 300,
   "metadata": {
    "collapsed": true
   },
   "outputs": [],
   "source": [
    "from nptdms import TdmsFile"
   ]
  },
  {
   "cell_type": "markdown",
   "metadata": {},
   "source": [
    "If you run Python for the first time you may have to install the package. To install the package open the command-line and type:<br>\n",
    ">`pip install nptdms`"
   ]
  },
  {
   "cell_type": "markdown",
   "metadata": {},
   "source": [
    "In the example below a TDMS file is loaded and some information, such as the dimensions, binning, total number of frames and the exposure time, is extracted:"
   ]
  },
  {
   "cell_type": "code",
   "execution_count": 301,
   "metadata": {
    "collapsed": true
   },
   "outputs": [],
   "source": [
    "def loadTDMSImages(file):\n",
    "    global dimx, dimy, binning, frames, exposure\n",
    "    tdms_file = TdmsFile(file)\n",
    "    p = tdms_file.object().properties # get the properties\n",
    "    dimx = int(p['dimx'])\n",
    "    dimy = int(p['dimy'])\n",
    "    binning = int(p['binning'])\n",
    "    frames = int(p['dimz'])\n",
    "    exposure = float(p['exposure'])\n",
    "    images = tdms_file.channel_data('Image','Image')\n",
    "    return images.reshape(frames,dimx,dimy)"
   ]
  },
  {
   "cell_type": "code",
   "execution_count": 302,
   "metadata": {
    "collapsed": true
   },
   "outputs": [],
   "source": [
    "file = path + 'Set1_001_movie.tdms'"
   ]
  },
  {
   "cell_type": "code",
   "execution_count": 303,
   "metadata": {
    "collapsed": true
   },
   "outputs": [],
   "source": [
    "images = loadTDMSImages(file)"
   ]
  },
  {
   "cell_type": "markdown",
   "metadata": {},
   "source": [
    "**Plot the a frame of the image series**"
   ]
  },
  {
   "cell_type": "code",
   "execution_count": 304,
   "metadata": {},
   "outputs": [
    {
     "data": {
      "image/png": "[encoded data removed]",
      "text/plain": [
       "<matplotlib.figure.Figure at 0xf8b91d0>"
      ]
     },
     "metadata": {},
     "output_type": "display_data"
    }
   ],
   "source": [
    "i = 0\n",
    "fig, ax = plt.subplots(1, 1, figsize=(5,5))\n",
    "ax.imshow(images[i], cmap='gray');"
   ]
  },
  {
   "cell_type": "markdown",
   "metadata": {},
   "source": [
    "All TDMS files containing a series of images have the file extension `*_movie.tdms` and a structure as above. As the structure of other TDMS file types can be quite different it might be useful to look at the contents of a TDMS file with:"
   ]
  },
  {
   "cell_type": "code",
   "execution_count": 296,
   "metadata": {
    "collapsed": true
   },
   "outputs": [],
   "source": [
    "#from subprocess import check_output\n",
    "#print(check_output(['tdmsinfo', '-p', file]).decode())"
   ]
  },
  {
   "cell_type": "markdown",
   "metadata": {},
   "source": [
    "In general all experimental data should contain a simple text file, e.g. `Protocol.txt`, describing the sample peparation and the experimenal setup in detail. Without documentation your experimental data is more or less useless to others and at some point also to you. An example is given below:"
   ]
  },
  {
   "cell_type": "code",
   "execution_count": 307,
   "metadata": {},
   "outputs": [
    {
     "name": "stdout",
     "output_type": "stream",
     "text": [
      "##################\n",
      "SAMPLE PREPARATION\n",
      "##################\n",
      "\n",
      "     \\ ___ /\n",
      "----------------- Glass Slide (Rinsed with Aceton, Ethanol, Milli-Q H2O, Immersed in 1% Pluronic F-127)\n",
      "\n",
      "      0.32 l     250 nm Au NPs in DI water\n",
      "\n",
      "----------------- Glass Slide (Rinsed with Aceton, Ethanol, Milli-Q H2O, Immersed in 1% Pluronic F-127)\n",
      "       ___\n",
      "      /   \\ \n",
      "\n",
      "Area: 18 x 18 mm (Sealed with PDMS)\n",
      "\n",
      "\n",
      "##################\n",
      "EXPERIMENTAL SETUP\n",
      "##################\n",
      "\n",
      "Darkfield Illumination\n",
      "Objective: Olympus UPlanFL N 100x/1.30 Oil Iris (f = 1.8 mm) \n",
      "Camera: Andor iXon3 DU-897E-CSO-#BV\n",
      "\n",
      "Scale: 0.0577 m/px (f = 500 mm Tube Lens) \n",
      "\n",
      "\n",
      "##################\n",
      "NOTES\n",
      "##################\n",
      "\n",
      "Set1: Free Diffusion\n",
      "\n"
     ]
    }
   ],
   "source": [
    "import codecs\n",
    "with codecs.open(path + 'Protocol.txt', 'r', encoding='utf-8', errors='ignore') as f:\n",
    "    info = f.read();               \n",
    "print(info)"
   ]
  },
  {
   "cell_type": "markdown",
   "metadata": {},
   "source": [
    "** Export image with a scale bar**"
   ]
  },
  {
   "cell_type": "code",
   "execution_count": 84,
   "metadata": {},
   "outputs": [
    {
     "data": {
      "image/png": "[encoded data removed]",
      "text/plain": [
       "<matplotlib.figure.Figure at 0xf88c5c0>"
      ]
     },
     "metadata": {},
     "output_type": "display_data"
    }
   ],
   "source": [
    "scale = 0.0577*binning # µm per pixel ... this value depends on the microscope setup\n",
    "sbar_m = 5 # length of the scale bar in µm\n",
    "sbar_p = int(np.round(sbar_m/scale)) # length of the scale bar in pixels\n",
    "sbar_x = 0.825*dimx # relative x and y positions of the scale bar\n",
    "sbar_y = 0.825*dimy \n",
    "\n",
    "fig, ax = plt.subplots(1, 1, figsize=(5,5)) # dpi=100\n",
    "\n",
    "ax.imshow(images[i], cmap='gray')\n",
    "ax.plot([sbar_x-sbar_p/2, sbar_x+sbar_p/2], [1.075*sbar_x, 1.075*sbar_y], 'w', lw=5);\n",
    "ax.text(sbar_x, sbar_y, str(sbar_m) + ' µm', va='center', ha='center', color='w', fontsize=20)\n",
    "\n",
    "fig.subplots_adjust(left=0, bottom=0, right=1, top=1, wspace=None, hspace=None)\n",
    "plt.axis('off')\n",
    "plt.savefig(file.replace('_movie.tdms','.png'), dpi=300)"
   ]
  },
  {
   "cell_type": "markdown",
   "metadata": {},
   "source": [
    "## Find Features"
   ]
  },
  {
   "cell_type": "markdown",
   "metadata": {},
   "source": [
    "Required packages"
   ]
  },
  {
   "cell_type": "code",
   "execution_count": 85,
   "metadata": {
    "collapsed": true
   },
   "outputs": [],
   "source": [
    "import skimage\n",
    "from skimage import morphology    \n",
    "import pandas as pd"
   ]
  },
  {
   "cell_type": "markdown",
   "metadata": {},
   "source": [
    "Define a method to find features based on connected component labeling:"
   ]
  },
  {
   "cell_type": "code",
   "execution_count": 86,
   "metadata": {
    "collapsed": true
   },
   "outputs": [],
   "source": [
    "def findFeatures(i, image, threshold, min_area, max_area):\n",
    "    df = pd.DataFrame()\n",
    "    threshold_image = (image > threshold).astype(int) # threshold\n",
    "    label_image = skimage.measure.label(threshold_image)\n",
    "    regions = skimage.measure.regionprops(label_image=label_image, intensity_image=image) # http://scikit-image.org/docs/dev/api/skimage.measure.html\n",
    "    for region in regions:\n",
    "        if region.area < min_area or region.area > max_area: # do not add feature if area is to small or to large\n",
    "            continue\n",
    "        df = df.append([{'y': region.centroid[0], \n",
    "                         'x': region.centroid[1],\n",
    "                         'area': region.area,\n",
    "                         'max_intensity': region.max_intensity,\n",
    "                         'frame': i,}])\n",
    "    return df, threshold_image"
   ]
  },
  {
   "cell_type": "markdown",
   "metadata": {},
   "source": [
    "Run the method and show the tracked features along the the threshold image:"
   ]
  },
  {
   "cell_type": "code",
   "execution_count": 87,
   "metadata": {},
   "outputs": [
    {
     "data": {
      "image/png": "[encoded data removed]",
      "text/plain": [
       "<matplotlib.figure.Figure at 0xf94f9e8>"
      ]
     },
     "metadata": {},
     "output_type": "display_data"
    }
   ],
   "source": [
    "i = 0\n",
    "threshold = 1000\n",
    "min_area = 25 \n",
    "max_area = 250\n",
    "\n",
    "df, threshold_image = findFeatures(i, images[i], threshold, min_area, max_area)\n",
    "    \n",
    "fig, ax = plt.subplots(1, 1, figsize=(5,5))\n",
    "ax.imshow(threshold_image, cmap='gray')\n",
    "for i, f in df.iterrows():\n",
    "    c = plt.Circle((f.x, f.y), np.sqrt(f.area/pi), color='r', linewidth=2.5, fill=False)\n",
    "    ax.add_patch(c)\n",
    "    \n",
    "plt.show()"
   ]
  },
  {
   "cell_type": "markdown",
   "metadata": {},
   "source": [
    "Do the tracking for all images in the image series and append features to a data frame. *This may take a some seconds ...*"
   ]
  },
  {
   "cell_type": "code",
   "execution_count": 88,
   "metadata": {
    "collapsed": true
   },
   "outputs": [],
   "source": [
    "f = pd.DataFrame()\n",
    "for i, image in enumerate(images): # this may take some seconds\n",
    "    df,_ = findFeatures(i, image, threshold, min_area, max_area)\n",
    "    f = f.append(df) "
   ]
  },
  {
   "cell_type": "code",
   "execution_count": 89,
   "metadata": {},
   "outputs": [
    {
     "data": {
      "text/html": [
       "<div>\n",
       "<style>\n",
       "    .dataframe thead tr:only-child th {\n",
       "        text-align: right;\n",
       "    }\n",
       "\n",
       "    .dataframe thead th {\n",
       "        text-align: left;\n",
       "    }\n",
       "\n",
       "    .dataframe tbody tr th {\n",
       "        vertical-align: top;\n",
       "    }\n",
       "</style>\n",
       "<table border=\"1\" class=\"dataframe\">\n",
       "  <thead>\n",
       "    <tr style=\"text-align: right;\">\n",
       "      <th></th>\n",
       "      <th>area</th>\n",
       "      <th>frame</th>\n",
       "      <th>max_intensity</th>\n",
       "      <th>x</th>\n",
       "      <th>y</th>\n",
       "    </tr>\n",
       "  </thead>\n",
       "  <tbody>\n",
       "    <tr>\n",
       "      <th>0</th>\n",
       "      <td>46</td>\n",
       "      <td>0</td>\n",
       "      <td>5907</td>\n",
       "      <td>1.630435</td>\n",
       "      <td>39.673913</td>\n",
       "    </tr>\n",
       "    <tr>\n",
       "      <th>0</th>\n",
       "      <td>185</td>\n",
       "      <td>0</td>\n",
       "      <td>11875</td>\n",
       "      <td>439.978378</td>\n",
       "      <td>124.697297</td>\n",
       "    </tr>\n",
       "    <tr>\n",
       "      <th>0</th>\n",
       "      <td>153</td>\n",
       "      <td>0</td>\n",
       "      <td>8924</td>\n",
       "      <td>136.803922</td>\n",
       "      <td>178.196078</td>\n",
       "    </tr>\n",
       "    <tr>\n",
       "      <th>0</th>\n",
       "      <td>172</td>\n",
       "      <td>0</td>\n",
       "      <td>7433</td>\n",
       "      <td>505.750000</td>\n",
       "      <td>215.494186</td>\n",
       "    </tr>\n",
       "    <tr>\n",
       "      <th>0</th>\n",
       "      <td>155</td>\n",
       "      <td>0</td>\n",
       "      <td>8091</td>\n",
       "      <td>281.664516</td>\n",
       "      <td>243.477419</td>\n",
       "    </tr>\n",
       "  </tbody>\n",
       "</table>\n",
       "</div>"
      ],
      "text/plain": [
       "   area  frame  max_intensity           x           y\n",
       "0    46      0           5907    1.630435   39.673913\n",
       "0   185      0          11875  439.978378  124.697297\n",
       "0   153      0           8924  136.803922  178.196078\n",
       "0   172      0           7433  505.750000  215.494186\n",
       "0   155      0           8091  281.664516  243.477419"
      ]
     },
     "execution_count": 89,
     "metadata": {},
     "output_type": "execute_result"
    }
   ],
   "source": [
    "f.head()"
   ]
  },
  {
   "cell_type": "markdown",
   "metadata": {},
   "source": [
    "## Working with HDF5 Files\n",
    "\n",
    "To store data frames along with metadata we recommend using the HDF5 file format. To learn more about the HFD5 file format see: http://www.hdfgroup.org <br>\n",
    "The example below shows how to store the features data frame along with some relevant metadata in a single HDF5 file."
   ]
  },
  {
   "cell_type": "code",
   "execution_count": 92,
   "metadata": {
    "collapsed": true
   },
   "outputs": [],
   "source": [
    "with pd.HDFStore(file.replace('_movie.tdms', '') + '_features.h5', 'w') as store:\n",
    "    store.put('features', f)\n",
    "    metadata = pd.DataFrame([{'dimx': dimx, 'dimy': dimx, 'binning': binning, 'frames': frames, 'exposure': exposure}])\n",
    "    metadata['method'] = 'Connected Component'\n",
    "    metadata['threshold'] = threshold\n",
    "    metadata['min_area'] = min_area\n",
    "    metadata['max_area'] = max_area\n",
    "    store.put('metadata', metadata)\n",
    "    store.close()"
   ]
  },
  {
   "cell_type": "markdown",
   "metadata": {},
   "source": [
    "Here, we reload the HDF5 file and recover the data frames for demonstation purposes:"
   ]
  },
  {
   "cell_type": "code",
   "execution_count": 93,
   "metadata": {
    "collapsed": true
   },
   "outputs": [],
   "source": [
    "with pd.HDFStore(file.replace('_movie.tdms', '') + '_features.h5', 'r') as store:\n",
    "    df = store['features']\n",
    "    metadata = store['metadata'].to_dict('records')[0] # convert data frame to dict\n",
    "    store.close()"
   ]
  },
  {
   "cell_type": "code",
   "execution_count": 94,
   "metadata": {},
   "outputs": [
    {
     "data": {
      "text/html": [
       "<div>\n",
       "<style>\n",
       "    .dataframe thead tr:only-child th {\n",
       "        text-align: right;\n",
       "    }\n",
       "\n",
       "    .dataframe thead th {\n",
       "        text-align: left;\n",
       "    }\n",
       "\n",
       "    .dataframe tbody tr th {\n",
       "        vertical-align: top;\n",
       "    }\n",
       "</style>\n",
       "<table border=\"1\" class=\"dataframe\">\n",
       "  <thead>\n",
       "    <tr style=\"text-align: right;\">\n",
       "      <th></th>\n",
       "      <th>area</th>\n",
       "      <th>frame</th>\n",
       "      <th>max_intensity</th>\n",
       "      <th>x</th>\n",
       "      <th>y</th>\n",
       "    </tr>\n",
       "  </thead>\n",
       "  <tbody>\n",
       "    <tr>\n",
       "      <th>0</th>\n",
       "      <td>46</td>\n",
       "      <td>0</td>\n",
       "      <td>5907</td>\n",
       "      <td>1.630435</td>\n",
       "      <td>39.673913</td>\n",
       "    </tr>\n",
       "    <tr>\n",
       "      <th>0</th>\n",
       "      <td>185</td>\n",
       "      <td>0</td>\n",
       "      <td>11875</td>\n",
       "      <td>439.978378</td>\n",
       "      <td>124.697297</td>\n",
       "    </tr>\n",
       "    <tr>\n",
       "      <th>0</th>\n",
       "      <td>153</td>\n",
       "      <td>0</td>\n",
       "      <td>8924</td>\n",
       "      <td>136.803922</td>\n",
       "      <td>178.196078</td>\n",
       "    </tr>\n",
       "    <tr>\n",
       "      <th>0</th>\n",
       "      <td>172</td>\n",
       "      <td>0</td>\n",
       "      <td>7433</td>\n",
       "      <td>505.750000</td>\n",
       "      <td>215.494186</td>\n",
       "    </tr>\n",
       "    <tr>\n",
       "      <th>0</th>\n",
       "      <td>155</td>\n",
       "      <td>0</td>\n",
       "      <td>8091</td>\n",
       "      <td>281.664516</td>\n",
       "      <td>243.477419</td>\n",
       "    </tr>\n",
       "  </tbody>\n",
       "</table>\n",
       "</div>"
      ],
      "text/plain": [
       "   area  frame  max_intensity           x           y\n",
       "0    46      0           5907    1.630435   39.673913\n",
       "0   185      0          11875  439.978378  124.697297\n",
       "0   153      0           8924  136.803922  178.196078\n",
       "0   172      0           7433  505.750000  215.494186\n",
       "0   155      0           8091  281.664516  243.477419"
      ]
     },
     "execution_count": 94,
     "metadata": {},
     "output_type": "execute_result"
    }
   ],
   "source": [
    "df.head()"
   ]
  },
  {
   "cell_type": "code",
   "execution_count": 95,
   "metadata": {},
   "outputs": [
    {
     "data": {
      "text/plain": [
       "{'binning': 1,\n",
       " 'dimx': 512,\n",
       " 'dimy': 512,\n",
       " 'exposure': 0.03,\n",
       " 'frames': 1000,\n",
       " 'max_area': 250,\n",
       " 'method': 'Connected Component',\n",
       " 'min_area': 25,\n",
       " 'threshold': 1000}"
      ]
     },
     "execution_count": 95,
     "metadata": {},
     "output_type": "execute_result"
    }
   ],
   "source": [
    "metadata"
   ]
  },
  {
   "cell_type": "markdown",
   "metadata": {
    "slideshow": {
     "slide_type": "notes"
    }
   },
   "source": [
    "## Link Trajectories\n",
    "\n",
    "We link trajectories using the package Trackpy. In order to use the package you have to import it:"
   ]
  },
  {
   "cell_type": "code",
   "execution_count": 96,
   "metadata": {
    "collapsed": true
   },
   "outputs": [],
   "source": [
    "import trackpy as tp"
   ]
  },
  {
   "cell_type": "markdown",
   "metadata": {},
   "source": [
    "If you run Python for the first time you may have to install the package. To install the package open the command-line and type:<br>\n",
    ">`pip install trackpy`"
   ]
  },
  {
   "cell_type": "markdown",
   "metadata": {},
   "source": [
    "Besides the linking functionality Trackpy comes with a lot of useful features. To learn more check out: https://soft-matter.github.io/trackpy"
   ]
  },
  {
   "cell_type": "code",
   "execution_count": 97,
   "metadata": {},
   "outputs": [
    {
     "name": "stdout",
     "output_type": "stream",
     "text": [
      "Frame 999: 7 trajectories present\n"
     ]
    }
   ],
   "source": [
    "search_range = 25 # maximum step size in pixels\n",
    "memory = 3 # numer of frames a particle can \n",
    "\n",
    "t1 = tp.link_df(df, search_range=search_range, memory=memory)"
   ]
  },
  {
   "cell_type": "markdown",
   "metadata": {},
   "source": [
    "This will add the column `particle` to th DataFrame:"
   ]
  },
  {
   "cell_type": "code",
   "execution_count": 98,
   "metadata": {},
   "outputs": [
    {
     "data": {
      "text/html": [
       "<div>\n",
       "<style>\n",
       "    .dataframe thead tr:only-child th {\n",
       "        text-align: right;\n",
       "    }\n",
       "\n",
       "    .dataframe thead th {\n",
       "        text-align: left;\n",
       "    }\n",
       "\n",
       "    .dataframe tbody tr th {\n",
       "        vertical-align: top;\n",
       "    }\n",
       "</style>\n",
       "<table border=\"1\" class=\"dataframe\">\n",
       "  <thead>\n",
       "    <tr style=\"text-align: right;\">\n",
       "      <th></th>\n",
       "      <th>area</th>\n",
       "      <th>frame</th>\n",
       "      <th>max_intensity</th>\n",
       "      <th>x</th>\n",
       "      <th>y</th>\n",
       "      <th>particle</th>\n",
       "    </tr>\n",
       "  </thead>\n",
       "  <tbody>\n",
       "    <tr>\n",
       "      <th>0</th>\n",
       "      <td>46</td>\n",
       "      <td>0</td>\n",
       "      <td>5907</td>\n",
       "      <td>1.630435</td>\n",
       "      <td>39.673913</td>\n",
       "      <td>0.0</td>\n",
       "    </tr>\n",
       "    <tr>\n",
       "      <th>1</th>\n",
       "      <td>103</td>\n",
       "      <td>1</td>\n",
       "      <td>5315</td>\n",
       "      <td>3.553398</td>\n",
       "      <td>34.009709</td>\n",
       "      <td>0.0</td>\n",
       "    </tr>\n",
       "    <tr>\n",
       "      <th>2</th>\n",
       "      <td>159</td>\n",
       "      <td>2</td>\n",
       "      <td>6702</td>\n",
       "      <td>5.119497</td>\n",
       "      <td>37.264151</td>\n",
       "      <td>0.0</td>\n",
       "    </tr>\n",
       "    <tr>\n",
       "      <th>3</th>\n",
       "      <td>50</td>\n",
       "      <td>3</td>\n",
       "      <td>5615</td>\n",
       "      <td>1.680000</td>\n",
       "      <td>41.940000</td>\n",
       "      <td>0.0</td>\n",
       "    </tr>\n",
       "    <tr>\n",
       "      <th>4</th>\n",
       "      <td>31</td>\n",
       "      <td>4</td>\n",
       "      <td>3735</td>\n",
       "      <td>1.129032</td>\n",
       "      <td>43.064516</td>\n",
       "      <td>0.0</td>\n",
       "    </tr>\n",
       "  </tbody>\n",
       "</table>\n",
       "</div>"
      ],
      "text/plain": [
       "   area  frame  max_intensity         x          y  particle\n",
       "0    46      0           5907  1.630435  39.673913       0.0\n",
       "1   103      1           5315  3.553398  34.009709       0.0\n",
       "2   159      2           6702  5.119497  37.264151       0.0\n",
       "3    50      3           5615  1.680000  41.940000       0.0\n",
       "4    31      4           3735  1.129032  43.064516       0.0"
      ]
     },
     "execution_count": 98,
     "metadata": {},
     "output_type": "execute_result"
    }
   ],
   "source": [
    "t1.head()"
   ]
  },
  {
   "cell_type": "markdown",
   "metadata": {},
   "source": [
    "Keep only trajectories that last for a given number of frames:"
   ]
  },
  {
   "cell_type": "code",
   "execution_count": 99,
   "metadata": {
    "collapsed": true
   },
   "outputs": [],
   "source": [
    "min_length = 10\n",
    "t = tp.filter_stubs(t1, min_length)"
   ]
  },
  {
   "cell_type": "code",
   "execution_count": 100,
   "metadata": {},
   "outputs": [
    {
     "data": {
      "image/png": "[encoded data removed]",
      "text/plain": [
       "<matplotlib.figure.Figure at 0xf596fd0>"
      ]
     },
     "metadata": {},
     "output_type": "display_data"
    }
   ],
   "source": [
    "fig, ax = plt.subplots(1, 1, figsize=(5,5))\n",
    "for j in range(int(t['particle'].max())):\n",
    "    ax.plot(t[t['particle']==j].x, t[t['particle']==j].y)\n",
    "ax.set_xlim(0, dimx)\n",
    "ax.set_ylim(dimy, 0)\n",
    "plt.show()"
   ]
  },
  {
   "cell_type": "markdown",
   "metadata": {},
   "source": [
    "Here, we repeat the linking and store the trajectories in a HDF5"
   ]
  },
  {
   "cell_type": "code",
   "execution_count": 103,
   "metadata": {
    "collapsed": true
   },
   "outputs": [],
   "source": [
    "import os"
   ]
  },
  {
   "cell_type": "code",
   "execution_count": 104,
   "metadata": {},
   "outputs": [
    {
     "name": "stdout",
     "output_type": "stream",
     "text": [
      "Frame 999: 7 trajectories present\n"
     ]
    }
   ],
   "source": [
    "search_range = 25\n",
    "memory = 3\n",
    "min_length = 10\n",
    "\n",
    "# only link trajectories if there is no trajectories HDF5 file or if link is set True  \n",
    "link = True\n",
    "if not os.path.exists(file.replace('_movie.tdms', '') + '_trajectories.h5') or link: \n",
    "    t1 = tp.link_df(df, search_range=search_range, memory=memory) # depending on the number of frames this may take a while\n",
    "    t = tp.filter_stubs(t1, min_length)\n",
    "    store = pd.HDFStore(file.replace('_movie.tdms', '') + '_trajectories.h5', 'w')\n",
    "    store.put('trajectories', t)\n",
    "    store.close()\n",
    "else:\n",
    "    with pd.HDFStore(file.replace('_movie.tdms', '') + '_trajectories.h5', 'r') as store:\n",
    "        t = store['trajectories']\n",
    "        store.close()"
   ]
  },
  {
   "cell_type": "markdown",
   "metadata": {},
   "source": [
    "## Handling Multiple Files\n",
    "\n",
    "To limit the file size many experiments require to save data in multiple, sequential TDMS files rather than one large TDMS file. The following code snipet demonstates how to load and concatenate sequential TDMS and HDF5 files."
   ]
  },
  {
   "cell_type": "markdown",
   "metadata": {},
   "source": [
    "List all TDMS files with the prefix `Set1*` and the suffix `*_movie.tdms`:"
   ]
  },
  {
   "cell_type": "code",
   "execution_count": 113,
   "metadata": {},
   "outputs": [
    {
     "name": "stdout",
     "output_type": "stream",
     "text": [
      "E:\\Sample Data\\Set1_001_movie.tdms\n",
      "E:\\Sample Data\\Set1_002_movie.tdms\n",
      "E:\\Sample Data\\Set1_003_movie.tdms\n"
     ]
    }
   ],
   "source": [
    "import glob\n",
    "\n",
    "for file in glob.glob(path + 'Set1_*_movie.tdms'):\n",
    "    print(file)"
   ]
  },
  {
   "cell_type": "markdown",
   "metadata": {},
   "source": [
    "Do the feature detection for all listed files and create a HDF5 feature file for each TDMS file"
   ]
  },
  {
   "cell_type": "code",
   "execution_count": 116,
   "metadata": {
    "collapsed": true
   },
   "outputs": [],
   "source": [
    "for file in glob.glob(path + 'Set1_*_movie.tdms'): # this may take a while\n",
    "    f = pd.DataFrame()\n",
    "    for i, image in enumerate(images):\n",
    "        df, _ = findFeatures(i, image, threshold, min_area, max_area)\n",
    "        f = f.append(df) \n",
    "    with pd.HDFStore(file.replace('_movie.tdms', '') + '_features.h5', 'w') as store:\n",
    "        store.put('features', f)\n",
    "        store.close()"
   ]
  },
  {
   "cell_type": "markdown",
   "metadata": {},
   "source": [
    "Reload the feature files and concetanate the data frames"
   ]
  },
  {
   "cell_type": "code",
   "execution_count": 119,
   "metadata": {
    "collapsed": true
   },
   "outputs": [],
   "source": [
    "f = pd.DataFrame()\n",
    "features = pd.DataFrame()\n",
    "for i, file in enumerate(glob.glob(path + 'Set1_*_features.h5')):\n",
    "    with pd.HDFStore(file, 'r') as store:\n",
    "        features = store['features']\n",
    "    if i == 0:\n",
    "        f = features\n",
    "    else:\n",
    "        features['frame'] += f['frame'].max()\n",
    "        f = f.append(features)"
   ]
  },
  {
   "cell_type": "code",
   "execution_count": 121,
   "metadata": {},
   "outputs": [
    {
     "name": "stdout",
     "output_type": "stream",
     "text": [
      "Frame 2997: 7 trajectories present\n"
     ]
    }
   ],
   "source": [
    "t1 = tp.link_df(f, search_range=search_range, memory=memory)"
   ]
  },
  {
   "cell_type": "code",
   "execution_count": 122,
   "metadata": {
    "collapsed": true
   },
   "outputs": [],
   "source": [
    "t = tp.filter_stubs(t1, min_length)"
   ]
  },
  {
   "cell_type": "markdown",
   "metadata": {},
   "source": [
    "..."
   ]
  }
 ],
 "metadata": {
  "anaconda-cloud": {},
  "kernelspec": {
   "display_name": "Python 3",
   "language": "python",
   "name": "python3"
  },
  "language_info": {
   "codemirror_mode": {
    "name": "ipython",
    "version": 3
   },
   "file_extension": ".py",
   "mimetype": "text/x-python",
   "name": "python",
   "nbconvert_exporter": "python",
   "pygments_lexer": "ipython3",
   "version": "3.6.3"
  }
 },
 "nbformat": 4,
 "nbformat_minor": 2
}
