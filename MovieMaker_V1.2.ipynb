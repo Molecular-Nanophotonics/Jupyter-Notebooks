{
 "cells": [
  {
   "cell_type": "markdown",
   "metadata": {
    "slideshow": {
     "slide_type": "notes"
    }
   },
   "source": [
    "# Movie Maker for TDMS files using FFmpeg"
   ]
  },
  {
   "cell_type": "markdown",
   "metadata": {},
   "source": [
    "### Required packages:"
   ]
  },
  {
   "cell_type": "markdown",
   "metadata": {},
   "source": [
    "- npTDMS (!pip install nptdms)\n",
    "- FFmpeg (http://www.wikihow.com/Install-FFmpeg-on-Windows)"
   ]
  },
  {
   "cell_type": "code",
   "execution_count": 1,
   "metadata": {
    "collapsed": true
   },
   "outputs": [],
   "source": [
    "import numpy as np\n",
    "import matplotlib\n",
    "#matplotlib.use(\"agg\")\n",
    "import matplotlib.pyplot as plt\n",
    "%matplotlib inline\n",
    "import matplotlib.animation as animation # https://matplotlib.org/api/animation_api.html\n",
    "\n",
    "import fnmatch\n",
    "import sys, os\n",
    "\n",
    "from IPython.display import clear_output\n",
    "\n",
    "from nptdms import TdmsFile # this library contains the actual TDMS loading parts\n",
    "#from ipywidgets import interact\n",
    "\n",
    "from matplotlib import colors\n",
    "import pickle\n",
    "from scipy import ndimage\n",
    "\n",
    "import pandas as pd\n",
    "import trackpy as tp"
   ]
  },
  {
   "cell_type": "code",
   "execution_count": 2,
   "metadata": {
    "collapsed": true
   },
   "outputs": [],
   "source": [
    "fdir = 'E:/' # set the \"Select Files...\" dialog start directory to the notebook directory\n",
    "def openFilesDialog(fdir):\n",
    "    from PyQt5.QtWidgets import QApplication,QFileDialog\n",
    "    app = QApplication([dir])\n",
    "    files = QFileDialog.getOpenFileNames(None, \"Select Files...\", fdir, filter='TDMS Files (*.tdms);;All Files (*)')\n",
    "    return files[0]\n",
    "\n",
    "def loadTDMSImages(file):\n",
    "    global exposure, dimx, dimy, binning\n",
    "    tdms_file = TdmsFile(file)\n",
    "    p=tdms_file.object().properties   \n",
    "    dimx=int(p['dimx'])  \n",
    "    dimy=int(p['dimy'])\n",
    "    frames=int(p['dimz'])\n",
    "    binning=int(p['binning'])\n",
    "    exposure=float(p['exposure'])\n",
    "    images=tdms_file.channel_data('Image','Image')\n",
    "    return images.reshape(frames,dimx,dimy)"
   ]
  },
  {
   "cell_type": "markdown",
   "metadata": {},
   "source": [
    "## Select files to process"
   ]
  },
  {
   "cell_type": "code",
   "execution_count": 3,
   "metadata": {
    "scrolled": true
   },
   "outputs": [
    {
     "name": "stdout",
     "output_type": "stream",
     "text": [
      "Selected Files:\n",
      "E:/180423_A-Beta_Fibril_ThT_Trapping/Set2/Set2_001_movie.tdms\n",
      "E:/180423_A-Beta_Fibril_ThT_Trapping/Set2/Set2_002_movie.tdms\n",
      "E:/180423_A-Beta_Fibril_ThT_Trapping/Set2/Set2_003_movie.tdms\n",
      "E:/180423_A-Beta_Fibril_ThT_Trapping/Set2/Set2_004_movie.tdms\n",
      "E:/180423_A-Beta_Fibril_ThT_Trapping/Set2/Set2_005_movie.tdms\n",
      "E:/180423_A-Beta_Fibril_ThT_Trapping/Set2/Set2_006_movie.tdms\n",
      "E:/180423_A-Beta_Fibril_ThT_Trapping/Set2/Set2_007_movie.tdms\n",
      "E:/180423_A-Beta_Fibril_ThT_Trapping/Set2/Set2_008_movie.tdms\n",
      "E:/180423_A-Beta_Fibril_ThT_Trapping/Set2/Set2_009_movie.tdms\n",
      "E:/180423_A-Beta_Fibril_ThT_Trapping/Set2/Set2_010_movie.tdms\n",
      "E:/180423_A-Beta_Fibril_ThT_Trapping/Set2/Set2_011_movie.tdms\n",
      "E:/180423_A-Beta_Fibril_ThT_Trapping/Set2/Set2_012_movie.tdms\n"
     ]
    }
   ],
   "source": [
    "files = openFilesDialog(fdir)\n",
    "fdir = os.path.dirname(files[0]) # set the dialog start directory to the selected directory\n",
    "print('Selected Files:')\n",
    "for file in files:\n",
    "    print(file)"
   ]
  },
  {
   "cell_type": "code",
   "execution_count": 4,
   "metadata": {
    "collapsed": true
   },
   "outputs": [],
   "source": [
    "# Trajectory\n",
    "#f = pd.read_pickle('E:/180227_A-Beta_Fibril_ThT_Trapping/Set4_006_features.pkl')\n",
    "#t = tp.link_df(f, search_range=25, memory=3)\n",
    "#df = tp.filter_stubs(t, 10)"
   ]
  },
  {
   "cell_type": "markdown",
   "metadata": {},
   "source": [
    "##  Select color map"
   ]
  },
  {
   "cell_type": "code",
   "execution_count": 5,
   "metadata": {
    "collapsed": true
   },
   "outputs": [],
   "source": [
    "try:  \n",
    "    cmap = pickle.load(open('colormaps/cmap_tht.pkl', 'rb'))\n",
    "    #cmap = 'gray'\n",
    "    #cmap = 'viridis'\n",
    "except Exception as e:\n",
    "    cmap = 'gray' # default\n",
    "    print(e, 'Using the default color map.')"
   ]
  },
  {
   "cell_type": "markdown",
   "metadata": {},
   "source": [
    "## Here, you can test color scale, overlay, ..."
   ]
  },
  {
   "cell_type": "code",
   "execution_count": 6,
   "metadata": {
    "collapsed": true
   },
   "outputs": [],
   "source": [
    "# find the first *_movie.tdms in the list of files and load it \n",
    "i = [i for i, file in enumerate(files) if fnmatch.fnmatch(file, '*_movie.tdms')][0]\n",
    "#i = 0\n",
    "images = loadTDMSImages(files[i])"
   ]
  },
  {
   "cell_type": "code",
   "execution_count": 12,
   "metadata": {},
   "outputs": [
    {
     "data": {
      "image/png": "[encoded data removed]",
      "text/plain": [
       "<matplotlib.figure.Figure at 0xd207dd8>"
      ]
     },
     "metadata": {},
     "output_type": "display_data"
    }
   ],
   "source": [
    "k = 0\n",
    "image = images[k]\n",
    "\n",
    "# color scale \n",
    "autoscale = False\n",
    "vmin = 300\n",
    "vmax = 900\n",
    "\n",
    "subx = dimx  \n",
    "suby = dimy\n",
    "\n",
    "# overlay\n",
    "scalebar = True\n",
    "if scalebar:\n",
    "    um2px = 0.0577*binning # µm/px\n",
    "    sb_um = 3 # µm \n",
    "    sb_x = 0.825*(dimx+subx)/2\n",
    "    sb_y = 0.825*(dimy+suby)/2\n",
    "    sb_px = int(np.round(sb_um/um2px))\n",
    "\n",
    "# filters\n",
    "medianfilter = True\n",
    "median = 2\n",
    "if median:\n",
    "    image = ndimage.median_filter(image, median) \n",
    "\n",
    "# mask\n",
    "mask = True\n",
    "if mask:\n",
    "    x0 = 61; y0 = 61\n",
    "    radius = 39\n",
    "    xx, yy= np.meshgrid(np.arange(0, dimx, 1), np.arange(0, dimy, 1))\n",
    "    maskimage = (((xx - x0)**2 + (yy - y0)**2) < (radius)**2).astype(int)\n",
    "    image = image*maskimage\n",
    "\n",
    "fig = plt.figure(figsize=(5,5), dpi=100)\n",
    "ax = fig.add_subplot(1,1,1)\n",
    "\n",
    "if autoscale:\n",
    "    ax.imshow(image, cmap=cmap)\n",
    "else:\n",
    "    ax.imshow(image, cmap=cmap, vmin=vmin, vmax=vmax)\n",
    "if scalebar:\n",
    "    ax.text(sb_x, sb_y, str(sb_um) + ' µm', va='center',ha='center',color='w',fontsize=20)\n",
    "\n",
    "#ax.set_xlim(x0-subx/2, x0+subx/2)\n",
    "#ax.set_ylim(y0+suby/2, y0-suby/2)\n",
    "\n",
    "if subx != dimx or suby != dimy:\n",
    "    ax.set_xlim((dimx-subx)/2, (dimx+subx)/2)\n",
    "    ax.set_ylim((dimy+suby)/2, (dimy-suby)/2)\n",
    "\n",
    "#ax.text(425, 50, 'On', va='center',ha='left',color='w',fontsize=20)\n",
    "ri = 40\n",
    "ax.add_patch(plt.Circle((x0, y0), radius=ri, color='w', ls='--', lw=2, fill=False))\n",
    "#ro = 50\n",
    "#ax.add_patch(plt.Circle((x0, y0), radius=ro, color='w', ls='-', lw=2, fill=False))\n",
    "\n",
    "ax.plot([sb_x-sb_px/2, sb_x+sb_px/2], [1.075*sb_y, 1.075*sb_y], 'w', lw=5);\n",
    "\n",
    "fig.subplots_adjust(left=0, bottom=0, right=1, top=1, wspace=None, hspace=None)\n",
    "plt.axis('off')\n",
    "\n",
    "# Trajectory\n",
    "#ax.plot(f['x'].tolist()[0:k], f['y'].tolist()[0:k], 'w', alpha=0.25)\n",
    "\n",
    "export = True\n",
    "if export:\n",
    "    plt.savefig(files[i].replace('_movie.tdms','.png'), dpi=300)"
   ]
  },
  {
   "cell_type": "markdown",
   "metadata": {},
   "source": [
    "## Process files individually"
   ]
  },
  {
   "cell_type": "code",
   "execution_count": 40,
   "metadata": {
    "collapsed": true
   },
   "outputs": [
    {
     "name": "stdout",
     "output_type": "stream",
     "text": [
      "E:/180424_A-Beta_Fibril_ThT_Trapping+Monomer/Set1_003_movie.tdms\n",
      "Progress: 99 %\n"
     ]
    },
    {
     "data": {
      "image/png": "[encoded data removed]",
      "text/plain": [
       "<matplotlib.figure.Figure at 0x105d32b0>"
      ]
     },
     "metadata": {},
     "output_type": "display_data"
    }
   ],
   "source": [
    "ffmpegWriter = animation.writers['ffmpeg']\n",
    "\n",
    "fig = plt.figure(figsize=(5,5), dpi=100)\n",
    "ax = fig.add_subplot(1,1,1)\n",
    "fig.subplots_adjust(left=0, bottom=0, right=1, top=1, wspace=None, hspace=None)\n",
    "#im = plt.imshow(images[0], cmap=cmap) # vmax=...\n",
    "# scale bar\n",
    "#plt.text(sb_x, sb_y, str(sb_um) + ' µm', va='center',ha='center',color='w',fontsize=20)\n",
    "#plt.plot([sb_x-sb_px/2, sb_x+sb_px/2], [1.075*sb_y, 1.075*sb_y], 'w', lw=5)\n",
    "plt.axis('off')\n",
    "        \n",
    "#images = np.zeros(0)        \n",
    "for file in files:\n",
    "    if fnmatch.fnmatch(file,'*_movie.tdms'): # load only the *_movie.tdms files of the selected files\n",
    "        images = loadTDMSImages(file)\n",
    "        if autoscale:\n",
    "            im = plt.imshow(images[0], cmap=cmap)\n",
    "        else:\n",
    "            im = plt.imshow(images[0], cmap=cmap, vmin=vmin, vmax=vmax)\n",
    "        # overlay\n",
    "        if scalebar:\n",
    "            ax.text(sb_x, sb_y, str(sb_um) + ' µm', va='center', ha='center', color='w', fontsize=20)\n",
    "            ax.plot([sb_x-sb_px/2, sb_x+sb_px/2], [1.075*sb_y, 1.075*sb_y], 'w', lw=5)\n",
    "\n",
    "        #ax.add_patch(plt.Circle((x0, y0), radius=r1, color='w', linewidth=1, fill=False))\n",
    "        if images.shape[0] > 1: # check if there is more than one frame\n",
    "            writer = ffmpegWriter(fps=1./exposure) # '.mp4'\n",
    "            with writer.saving(fig, file.replace('_movie.tdms','') + \".mp4\", dpi=100): # !!!\n",
    "                for i in range(images.shape[0]):\n",
    "                    image = images[i]\n",
    "                    if medianfilter:\n",
    "                        image = ndimage.median_filter(image, median)\n",
    "                    if mask:\n",
    "                        image = image*maskimage\n",
    "                    im.set_data(image)\n",
    "                    writer.grab_frame()\n",
    "                    if (i % 10 == 0):\n",
    "                        clear_output(wait=True)\n",
    "                        print(file + '\\n' + 'Progress:', int(i/images.shape[0]*100), '%')\n",
    "        #else:   \n",
    "            # save as '.png' \n",
    "            "
   ]
  },
  {
   "cell_type": "markdown",
   "metadata": {},
   "source": [
    "\n",
    "## Concatenate files"
   ]
  },
  {
   "cell_type": "code",
   "execution_count": 29,
   "metadata": {},
   "outputs": [
    {
     "name": "stdout",
     "output_type": "stream",
     "text": [
      "(5000, 251, 251)\n"
     ]
    }
   ],
   "source": [
    "images = np.array([])\n",
    "for file in files:\n",
    "    if fnmatch.fnmatch(file, '*_movie.tdms'): # load only the *_movie.tdms files of the selected files\n",
    "        if images.size == 0:\n",
    "            images = loadTDMSImages(file)\n",
    "        else:\n",
    "            images = np.concatenate((images, loadTDMSImages(file)), axis=0)\n",
    "print(images.shape)"
   ]
  },
  {
   "cell_type": "code",
   "execution_count": 30,
   "metadata": {},
   "outputs": [
    {
     "name": "stdout",
     "output_type": "stream",
     "text": [
      "Progress: 99 %\n"
     ]
    },
    {
     "data": {
      "image/png": "[encoded data removed]",
      "text/plain": [
       "<matplotlib.figure.Figure at 0x8261a20>"
      ]
     },
     "metadata": {},
     "output_type": "display_data"
    }
   ],
   "source": [
    "ffmpegWriter = animation.writers['ffmpeg']\n",
    "#writer = ffmpegWriter(fps=1./exposure,codec=\"msvideo1\") # + \".avi\" for PowerPoint 2010\n",
    "writer = ffmpegWriter(fps=1./exposure) # + \".mp4\"\n",
    "\n",
    "fig = plt.figure(figsize=(5,5), dpi=100)\n",
    "ax = fig.add_subplot(1,1,1)\n",
    "fig.subplots_adjust(left=0, bottom=0, right=1, top=1, wspace=None, hspace=None)\n",
    "if autoscale:\n",
    "    im = plt.imshow(images[0], cmap=cmap)\n",
    "else:\n",
    "    im = plt.imshow(images[0], cmap=cmap, vmin=vmin, vmax=vmax)\n",
    "# overlay\n",
    "if scalebar:\n",
    "    ax.text(sb_x, sb_y, str(sb_um) + ' µm', va='center', ha='center', color='w', fontsize=20)\n",
    "    ax.plot([sb_x-sb_px/2, sb_x+sb_px/2], [1.075*sb_y, 1.075*sb_y], 'w', lw=5)\n",
    "ax.add_patch(plt.Circle((x0, y0), radius=ri, color='w', ls='--', lw=2, fill=False))\n",
    "\n",
    "if subx != dimx or suby != dimy:\n",
    "    ax.set_xlim((dimx-subx)/2, (dimx+subx)/2)\n",
    "    ax.set_ylim((dimy+suby)/2, (dimy-suby)/2)\n",
    "            \n",
    "# trajectory\n",
    "#l, = plt.plot([], [], 'w-', lw=1)\n",
    "plt.axis('off')\n",
    "\n",
    "with writer.saving(fig, files[0].replace('_001_movie.tdms','') + \".mp4\", dpi=100):\n",
    "    for i in range(images.shape[0]):\n",
    "        image = images[i]\n",
    "        if medianfilter:\n",
    "            image = ndimage.median_filter(image, median)\n",
    "        if mask:\n",
    "            image = image*maskimage\n",
    "        im.set_data(image)\n",
    "        # Text\n",
    "        #if (i == 100):\n",
    "        #    txt.set_text('On');\n",
    "        # Trajectory\n",
    "        #spots=pd.read_pickle(files[0].replace('_001_movie.tdms','') + '_spots.pkl')\n",
    "        #l.set_data(spots[:i].x, spots[:i].y)\n",
    "        writer.grab_frame()\n",
    "        if (i % 10 == 0):\n",
    "            clear_output(wait=True)\n",
    "            print('Progress:', int(i/images.shape[0]*100), '%')"
   ]
  },
  {
   "cell_type": "code",
   "execution_count": null,
   "metadata": {
    "collapsed": true
   },
   "outputs": [],
   "source": []
  }
 ],
 "metadata": {
  "anaconda-cloud": {},
  "kernelspec": {
   "display_name": "Python 3",
   "language": "python",
   "name": "python3"
  },
  "language_info": {
   "codemirror_mode": {
    "name": "ipython",
    "version": 3
   },
   "file_extension": ".py",
   "mimetype": "text/x-python",
   "name": "python",
   "nbconvert_exporter": "python",
   "pygments_lexer": "ipython3",
   "version": "3.6.3"
  },
  "varInspector": {
   "cols": {
    "lenName": 16,
    "lenType": 16,
    "lenVar": 40
   },
   "kernels_config": {
    "python": {
     "delete_cmd_postfix": "",
     "delete_cmd_prefix": "del ",
     "library": "var_list.py",
     "varRefreshCmd": "print(var_dic_list())"
    },
    "r": {
     "delete_cmd_postfix": ") ",
     "delete_cmd_prefix": "rm(",
     "library": "var_list.r",
     "varRefreshCmd": "cat(var_dic_list()) "
    }
   },
   "types_to_exclude": [
    "module",
    "function",
    "builtin_function_or_method",
    "instance",
    "_Feature"
   ],
   "window_display": false
  }
 },
 "nbformat": 4,
 "nbformat_minor": 2
}
