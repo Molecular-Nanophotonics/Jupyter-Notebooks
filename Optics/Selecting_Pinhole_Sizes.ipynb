{
 "cells": [
  {
   "cell_type": "markdown",
   "metadata": {},
   "source": [
    "# How to Select the Size of a Pinhole"
   ]
  },
  {
   "cell_type": "markdown",
   "metadata": {},
   "source": [
    "This notebook shows how to calculate the appropriate size of pinhole. "
   ]
  },
  {
   "cell_type": "markdown",
   "metadata": {},
   "source": [
    "## Required packages"
   ]
  },
  {
   "cell_type": "code",
   "execution_count": 1,
   "metadata": {
    "collapsed": true
   },
   "outputs": [],
   "source": [
    "import numpy as np\n",
    "pi = np.pi\n",
    "from matplotlib import pyplot as plt\n",
    "%matplotlib inline"
   ]
  },
  {
   "cell_type": "markdown",
   "metadata": {},
   "source": [
    "The focus spots size $d_\\mathrm{focus}$ of a laser beam focused by a lens with focal length $f$ and with\n",
    "wavelength $\\lambda$ is:<br>\n",
    "\\begin{align}\n",
    "d_\\rm{focus} = \\frac{4}{\\pi}\\frac{\\lambda\\,f}{d_\\mathrm{input}}\n",
    "\\end{align}\n",
    "where $d_\\mathrm{input}$ is the diameter of the input beam. The pinhole size is then calculated as:<br>\n",
    "\\begin{align}\n",
    "d_\\mathrm{pinhole} = 1.5\\,d_\\mathrm{focus}\n",
    "\\end{align}\n",
    "<img src='Resources/Beam_Focusing.png' width='425'><br>\n",
    "The factor of 1.5 is determined as the optimal factor in order to pass the maximum amount\n",
    "of energy, while eliminating as much spatial noise as possible."
   ]
  },
  {
   "cell_type": "code",
   "execution_count": 2,
   "metadata": {},
   "outputs": [
    {
     "name": "stdout",
     "output_type": "stream",
     "text": [
      "d_focus = 0.4 µm\n",
      "d_pinhole = 0.8 µm\n"
     ]
    }
   ],
   "source": [
    "lda = 0.808 # µm\n",
    "f = 1.8 # mm\n",
    "d_input = 5 # mm\n",
    "d_focus = 4/pi*lda*f/d_input\n",
    "print('d_focus = %.1f µm' % (d_focus))\n",
    "d_pinhole = 1.5*d_focus\n",
    "print('d_pinhole = %.1f µm' % (1.5*d_pinhole))"
   ]
  },
  {
   "cell_type": "code",
   "execution_count": null,
   "metadata": {
    "collapsed": true
   },
   "outputs": [],
   "source": []
  }
 ],
 "metadata": {
  "anaconda-cloud": {},
  "kernelspec": {
   "display_name": "Python 3",
   "language": "python",
   "name": "python3"
  },
  "language_info": {
   "codemirror_mode": {
    "name": "ipython",
    "version": 3
   },
   "file_extension": ".py",
   "mimetype": "text/x-python",
   "name": "python",
   "nbconvert_exporter": "python",
   "pygments_lexer": "ipython3",
   "version": "3.6.3"
  }
 },
 "nbformat": 4,
 "nbformat_minor": 2
}
