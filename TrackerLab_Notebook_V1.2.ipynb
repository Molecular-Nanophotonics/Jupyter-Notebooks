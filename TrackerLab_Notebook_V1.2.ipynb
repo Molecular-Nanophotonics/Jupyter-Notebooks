{
 "cells": [
  {
   "cell_type": "markdown",
   "metadata": {
    "slideshow": {
     "slide_type": "notes"
    }
   },
   "source": [
    "# TrackerLab Notebook Version 1.0\n",
    "\n",
    "This is the Notebook Version of the TrackerLab for exporting images and testing"
   ]
  },
  {
   "cell_type": "markdown",
   "metadata": {},
   "source": [
    "### Required packages:"
   ]
  },
  {
   "cell_type": "code",
   "execution_count": 1,
   "metadata": {
    "collapsed": true
   },
   "outputs": [],
   "source": [
    "import numpy as np\n",
    "pi = np.pi\n",
    "import matplotlib.pyplot as plt\n",
    "%matplotlib inline\n",
    "\n",
    "import matplotlib\n",
    "\n",
    "import fnmatch\n",
    "import sys, os\n",
    "\n",
    "from nptdms import TdmsFile # this library contains the actual TDMS loading parts\n",
    "\n",
    "from matplotlib import colors\n",
    "import pickle\n",
    "from scipy import ndimage\n",
    "\n",
    "import skimage\n",
    "#from skimage import io\n",
    "from skimage import morphology    \n",
    "\n",
    "import pandas as pd\n",
    "import trackpy as tp"
   ]
  },
  {
   "cell_type": "code",
   "execution_count": 2,
   "metadata": {
    "collapsed": true
   },
   "outputs": [],
   "source": [
    "fdir = 'E:/' # set the \"Select Files...\" dialog start directory to the notebook directory\n",
    "def openFilesDialog(fdir):\n",
    "    from PyQt5.QtWidgets import QApplication,QFileDialog\n",
    "    app = QApplication([dir])\n",
    "    files = QFileDialog.getOpenFileNames(None, \"Select Files...\", fdir, filter='TDMS Files (*.tdms);;All Files (*)')\n",
    "    return files[0]\n",
    "\n",
    "def loadTDMSImages(file):\n",
    "    global exposure, dimx, dimy, binning\n",
    "    tdms_file = TdmsFile(file)\n",
    "    p=tdms_file.object().properties   \n",
    "    dimx=int(p['dimx'])  \n",
    "    dimy=int(p['dimy'])\n",
    "    frames=int(p['dimz'])\n",
    "    binning=int(p['binning'])\n",
    "    exposure=float(p['exposure'])\n",
    "    images=tdms_file.channel_data('Image','Image')\n",
    "    return images.reshape(frames,dimx,dimy)"
   ]
  },
  {
   "cell_type": "markdown",
   "metadata": {},
   "source": [
    "## Select files to process"
   ]
  },
  {
   "cell_type": "code",
   "execution_count": 3,
   "metadata": {
    "scrolled": true
   },
   "outputs": [
    {
     "ename": "IndexError",
     "evalue": "list index out of range",
     "output_type": "error",
     "traceback": [
      "\u001b[1;31m---------------------------------------------------------------------------\u001b[0m",
      "\u001b[1;31mIndexError\u001b[0m                                Traceback (most recent call last)",
      "\u001b[1;32m<ipython-input-3-8df7a3de6e36>\u001b[0m in \u001b[0;36m<module>\u001b[1;34m()\u001b[0m\n\u001b[0;32m      1\u001b[0m \u001b[0mfiles\u001b[0m \u001b[1;33m=\u001b[0m \u001b[0mopenFilesDialog\u001b[0m\u001b[1;33m(\u001b[0m\u001b[0mfdir\u001b[0m\u001b[1;33m)\u001b[0m\u001b[1;33m\u001b[0m\u001b[0m\n\u001b[1;32m----> 2\u001b[1;33m \u001b[0mfdir\u001b[0m \u001b[1;33m=\u001b[0m \u001b[0mos\u001b[0m\u001b[1;33m.\u001b[0m\u001b[0mpath\u001b[0m\u001b[1;33m.\u001b[0m\u001b[0mdirname\u001b[0m\u001b[1;33m(\u001b[0m\u001b[0mfiles\u001b[0m\u001b[1;33m[\u001b[0m\u001b[1;36m0\u001b[0m\u001b[1;33m]\u001b[0m\u001b[1;33m)\u001b[0m \u001b[1;31m# set the dialog start directory to the selected directory\u001b[0m\u001b[1;33m\u001b[0m\u001b[0m\n\u001b[0m\u001b[0;32m      3\u001b[0m \u001b[0mprint\u001b[0m\u001b[1;33m(\u001b[0m\u001b[1;34m'Selected Files:'\u001b[0m\u001b[1;33m)\u001b[0m\u001b[1;33m\u001b[0m\u001b[0m\n\u001b[0;32m      4\u001b[0m \u001b[1;32mfor\u001b[0m \u001b[0mfile\u001b[0m \u001b[1;32min\u001b[0m \u001b[0mfiles\u001b[0m\u001b[1;33m:\u001b[0m\u001b[1;33m\u001b[0m\u001b[0m\n\u001b[0;32m      5\u001b[0m     \u001b[0mprint\u001b[0m\u001b[1;33m(\u001b[0m\u001b[0mfile\u001b[0m\u001b[1;33m)\u001b[0m\u001b[1;33m\u001b[0m\u001b[0m\n",
      "\u001b[1;31mIndexError\u001b[0m: list index out of range"
     ]
    }
   ],
   "source": [
    "files = openFilesDialog(fdir)\n",
    "fdir = os.path.dirname(files[0]) # set the dialog start directory to the selected directory\n",
    "print('Selected Files:')\n",
    "for file in files:\n",
    "    print(file)"
   ]
  },
  {
   "cell_type": "code",
   "execution_count": null,
   "metadata": {
    "collapsed": true
   },
   "outputs": [],
   "source": [
    "# Trajectory\n",
    "#f = pd.read_pickle('E:/180227_A-Beta_Fibril_ThT_Trapping/Set4_006_features.pkl')\n",
    "#t = tp.link_df(f, search_range=25, memory=3)\n",
    "#df = tp.filter_stubs(t, 10)"
   ]
  },
  {
   "cell_type": "markdown",
   "metadata": {},
   "source": [
    "##  Select color map"
   ]
  },
  {
   "cell_type": "code",
   "execution_count": 77,
   "metadata": {
    "collapsed": true
   },
   "outputs": [
    {
     "name": "stdout",
     "output_type": "stream",
     "text": [
      "[Errno 2] No such file or directory: 'colormaps/cmap_tht_black.pkl' Using the default color map.\n"
     ]
    }
   ],
   "source": [
    "try:\n",
    "    cmap = pickle.load(open('colormaps/cmap_tht_black.pkl', 'rb'))\n",
    "    #cmap = pickle.load(open('colormaps/cmap_white_blue.pkl', 'rb'))\n",
    "    cmap = 'gray'\n",
    "    #cmap = 'viridis'\n",
    "except Exception as e:\n",
    "    cmap = 'gray' # default\n",
    "    print(e, 'Using the default color map.')"
   ]
  },
  {
   "cell_type": "markdown",
   "metadata": {},
   "source": [
    "## Here, you can test color scale, overlay, ..."
   ]
  },
  {
   "cell_type": "code",
   "execution_count": 73,
   "metadata": {
    "collapsed": true
   },
   "outputs": [],
   "source": [
    "# find the first *_movie.tdms in the list of files and load it \n",
    "i = [i for i, file in enumerate(files) if fnmatch.fnmatch(file, '*_movie.tdms')][0]\n",
    "#i = 0\n",
    "images = loadTDMSImages(files[i])"
   ]
  },
  {
   "cell_type": "code",
   "execution_count": 75,
   "metadata": {},
   "outputs": [
    {
     "data": {
      "image/png": "[encoded data removed]",
      "text/plain": [
       "<matplotlib.figure.Figure at 0x10a490f0>"
      ]
     },
     "metadata": {},
     "output_type": "display_data"
    }
   ],
   "source": [
    "k = 637\n",
    "image = images[k]\n",
    "\n",
    "# color scale \n",
    "autoscale = False\n",
    "vmin = 200\n",
    "vmax = 1500\n",
    "\n",
    "# filters\n",
    "medianfilter = True\n",
    "median = 3\n",
    "if median:\n",
    "    image = ndimage.median_filter(image, median) \n",
    "\n",
    "# mask\n",
    "mask = True\n",
    "if mask:\n",
    "    x0 = 61; y0 = 61\n",
    "    radius = 39\n",
    "    xx, yy= np.meshgrid(np.arange(0, dimx, 1), np.arange(0, dimy, 1))\n",
    "    maskimage = (((xx - x0)**2 + (yy - y0)**2) < (radius)**2).astype(int)\n",
    "    image = image*maskimage\n",
    "\n",
    "    \n",
    "# region of interest\n",
    "roi = False\n",
    "roi_x = 35\n",
    "roi_y = 30\n",
    "roi_w = 45\n",
    "roi_h = 35\n",
    "\n",
    "# overlay\n",
    "scalebar = False\n",
    "um2px = 0.0577*binning # µm/px\n",
    "if scalebar:\n",
    "    if roi:\n",
    "        sb_um = 1 # µm\n",
    "        sb_x = 0.75*roi_w\n",
    "        sb_y = 0.80*roi_h\n",
    "    else:\n",
    "        sb_um = 3 # µm \n",
    "        sb_x = 0.825*dimx\n",
    "        sb_y = 0.825*dimy\n",
    "    sb_px = int(np.round(sb_um/um2px))\n",
    "\n",
    "\n",
    "fig = plt.figure(figsize=(5,5), dpi=100)\n",
    "ax = fig.add_subplot(1,1,1)\n",
    "\n",
    "if autoscale:\n",
    "    ax.imshow(image, cmap=cmap)\n",
    "else:\n",
    "    ax.imshow(image, cmap=cmap, vmin=vmin, vmax=vmax)\n",
    "if scalebar:\n",
    "    ax.text(sb_x, sb_y, str(sb_um) + ' µm', va='center',ha='center',color='k',fontsize=20)\n",
    "    ax.plot([sb_x-sb_px/2, sb_x+sb_px/2], [1.075*sb_y, 1.075*sb_y], 'k', lw=5);\n",
    "\n",
    "if roi:\n",
    "    ax.set_xlim(roi_x, roi_x+roi_w)\n",
    "    ax.set_ylim(roi_y+roi_h, roi_y)\n",
    "\n",
    "#ax.text(425, 50, 'On', va='center',ha='left',color='w',fontsize=20)\n",
    "ri = 45\n",
    "ax.add_patch(plt.Circle((x0, y0), radius=ri, color='w', ls='--', lw=2, fill=False))\n",
    "#ro = 50\n",
    "#ax.add_patch(plt.Circle((x0, y0), radius=ro, color='w', ls='-', lw=2, fill=False))\n",
    "\n",
    "fig.subplots_adjust(left=0, bottom=0, right=1, top=1, wspace=None, hspace=None)\n",
    "plt.axis('off')\n",
    "#ax.axes.get_xaxis().set_ticks([])\n",
    "#ax.axes.get_yaxis().set_ticks([])\n",
    "#for axis in ['top','bottom','left','right']:\n",
    "#    ax.spines[axis].set_linewidth(3)\n",
    "    \n",
    "# Trajectory\n",
    "#ax.plot(f['x'].tolist()[0:k], f['y'].tolist()[0:k], 'w', alpha=0.25)\n",
    "\n",
    "export = False\n",
    "if export:\n",
    "    plt.savefig(files[i].replace('_movie.tdms','pre-processed.png'), dpi=300)"
   ]
  },
  {
   "cell_type": "markdown",
   "metadata": {},
   "source": [
    "## Tracking"
   ]
  },
  {
   "cell_type": "code",
   "execution_count": 76,
   "metadata": {
    "collapsed": true
   },
   "outputs": [],
   "source": [
    "spots = pd.DataFrame()\n",
    "threshold = 600\n",
    "minArea = 25 \n",
    "maxArea = 250\n",
    "thresholdImage = (image > threshold).astype(int) # relative threshold\n",
    "labelImage = skimage.measure.label(thresholdImage)\n",
    "regions = skimage.measure.regionprops(label_image=labelImage, intensity_image=image) # http://scikit-image.org/docs/dev/api/skimage.measure.html\n",
    "for region in regions:\n",
    "    # area filter first\n",
    "    if region.area < minArea or region.area > maxArea:   # do not add feature\n",
    "        continue\n",
    "    spots = spots.append([{'y': region.centroid[0], \n",
    "                           'x': region.centroid[1],\n",
    "                           'orientation': region.orientation,\n",
    "                           'minor_axis_length': region.minor_axis_length,\n",
    "                           'major_axis_length': region.major_axis_length,\n",
    "                           'area': region.area,\n",
    "                           'max_intensity': region.max_intensity,\n",
    "                           'frame': i,}]) \n",
    "    \n",
    "df = spots"
   ]
  },
  {
   "cell_type": "code",
   "execution_count": 70,
   "metadata": {},
   "outputs": [
    {
     "data": {
      "image/png": "[encoded data removed]",
      "text/plain": [
       "<matplotlib.figure.Figure at 0x10b18ac8>"
      ]
     },
     "metadata": {},
     "output_type": "display_data"
    }
   ],
   "source": [
    "from matplotlib.patches import Ellipse\n",
    "\n",
    "fig = plt.figure(figsize=(5,5), dpi=100)\n",
    "ax = fig.add_subplot(1,1,1)\n",
    "\n",
    "fig.subplots_adjust(left=0, bottom=0, right=1, top=1, wspace=None, hspace=None)\n",
    "#plt.axis('off')\n",
    "ax.axes.get_xaxis().set_ticks([])\n",
    "ax.axes.get_yaxis().set_ticks([])\n",
    "for axis in ['top','bottom','left','right']:\n",
    "    ax.spines[axis].set_linewidth(3)\n",
    "\n",
    "\n",
    "ax.imshow(thresholdImage, cmap='gray_r', alpha=0.25)\n",
    "\n",
    "if scalebar:\n",
    "    ax.text(sb_x, sb_y, str(sb_um) + ' µm', va='center',ha='center',color='w',fontsize=20)\n",
    "    ax.plot([sb_x-sb_px/2, sb_x+sb_px/2], [1.075*sb_y, 1.075*sb_y], 'w', lw=5);\n",
    "\n",
    "# Trap Overlay\n",
    "ri = 45\n",
    "x0 = 61; y0 = 61\n",
    "ax.add_patch(plt.Circle((x0, y0), radius=ri, color='w', ls='--', lw=2, fill=False))\n",
    "\n",
    "# Tracker Overlay\n",
    "if True:\n",
    "    x0 = df[df['frame']==i].x.item()\n",
    "    y0 = df[df['frame']==i].y.item()\n",
    "    # plot major and minor axis\n",
    "    orientation = df[df['frame']==i].orientation.item()\n",
    "    a = df[df['frame']==i].major_axis_length.item()\n",
    "    b = df[df['frame']==i].minor_axis_length.item()\n",
    "    x1 = x0 + np.cos(orientation)*0.5*df[df['frame']==i].major_axis_length.item()\n",
    "    y1 = y0 - np.sin(orientation)*0.5*df[df['frame']==i].major_axis_length.item()\n",
    "    x2 = x0 - np.sin(orientation)*0.5*df[df['frame']==i].minor_axis_length.item()\n",
    "    y2 = y0 - np.cos(orientation)*0.5*df[df['frame']==i].minor_axis_length.item()\n",
    "    ax.plot((x0, x1), (y0, y1), '-r', linewidth=5)\n",
    "    ax.plot((x0, x2), (y0, y2), '-r', linewidth=5)\n",
    "    ax.plot(x0, y0, '.b', markersize=35)\n",
    "    ellipse = Ellipse((x0, y0), a, b, -orientation*57.7, color='k', lw=5, ls='-', fill=False)\n",
    "    ax.add_patch(ellipse)\n",
    "\n",
    "if roi:\n",
    "    ax.set_xlim(roi_x, roi_x+roi_w)\n",
    "    ax.set_ylim(roi_y+roi_h, roi_y)\n",
    "\n",
    "if export:\n",
    "    plt.savefig(files[i].replace('_movie.tdms','_threshold.png'), dpi=300)"
   ]
  },
  {
   "cell_type": "code",
   "execution_count": 8,
   "metadata": {},
   "outputs": [],
   "source": [
    "from skimage.feature import blob_log, blob_dog"
   ]
  },
  {
   "cell_type": "code",
   "execution_count": 71,
   "metadata": {
    "collapsed": true
   },
   "outputs": [],
   "source": [
    "images = loadTDMSImages('E:/181002_Au_NP_250nm_Au_Film/0800uW_001_movie.tdms')"
   ]
  },
  {
   "cell_type": "code",
   "execution_count": 72,
   "metadata": {},
   "outputs": [],
   "source": [
    "image = images[0]\n",
    "mlist = blob_dog(image/image.max(), max_sigma=10, threshold=15/100)"
   ]
  },
  {
   "cell_type": "code",
   "execution_count": 73,
   "metadata": {},
   "outputs": [
    {
     "data": {
      "text/plain": [
       "array([[ 204.    ,  201.    ,    6.5536],\n",
       "       [  23.    ,  190.    ,    6.5536]])"
      ]
     },
     "execution_count": 73,
     "metadata": {},
     "output_type": "execute_result"
    }
   ],
   "source": [
    "mlist"
   ]
  },
  {
   "cell_type": "code",
   "execution_count": 74,
   "metadata": {},
   "outputs": [],
   "source": [
    "j = 0\n",
    "xx, yy= np.meshgrid(np.arange(0, image.shape[0], 1), np.arange(0, image.shape[1], 1))\n",
    "mask = (((xx - mlist[j, 1])**2 + (yy - mlist[j, 0])**2) < (mlist[j, 2]*np.sqrt(2))**2).astype(int)"
   ]
  },
  {
   "cell_type": "code",
   "execution_count": 75,
   "metadata": {},
   "outputs": [
    {
     "data": {
      "image/png": "[encoded data removed]",
      "text/plain": [
       "<matplotlib.figure.Figure at 0xe1574e0>"
      ]
     },
     "metadata": {},
     "output_type": "display_data"
    }
   ],
   "source": [
    "fig, ax = plt.subplots(1, 1, figsize=(10,10))\n",
    "ax.imshow(image*mask, cmap='gray');"
   ]
  },
  {
   "cell_type": "code",
   "execution_count": 76,
   "metadata": {},
   "outputs": [
    {
     "data": {
      "text/plain": [
       "2111"
      ]
     },
     "execution_count": 76,
     "metadata": {},
     "output_type": "execute_result"
    }
   ],
   "source": [
    "image[mask==1].max()"
   ]
  },
  {
   "cell_type": "code",
   "execution_count": 80,
   "metadata": {},
   "outputs": [
    {
     "name": "stdout",
     "output_type": "stream",
     "text": [
      "2111\n",
      "2406\n"
     ]
    }
   ],
   "source": [
    "    features = pd.DataFrame()\n",
    "    X,Y = np.meshgrid(np.arange(0, image.shape[0], 1), np.arange(0, image.shape[1], 1))\n",
    "    if mlist.size > 0:\n",
    "        for j in range(mlist.shape[0]):\n",
    "            mask = (((X - mlist[j, 1])**2 + (Y - mlist[j, 0])**2) < (mlist[j, 2]*np.sqrt(2))**2).astype(int)\n",
    "            features = features.append([{'y': mlist[j, 0], \n",
    "                                         'x': mlist[j, 1],\n",
    "                                         'max_intensity': image[mask==1].max(),\n",
    "\t\t\t\t\t\t\t\t\t     #'max_intensity': image[int(mlist[j, 0]), int(mlist[j, 1])].max(),\n",
    "\t\t\t\t\t\t\t\t\t     'frame': i,}])  \n",
    "            print(image[mask==1].max())"
   ]
  },
  {
   "cell_type": "code",
   "execution_count": 78,
   "metadata": {},
   "outputs": [
    {
     "data": {
      "text/html": [
       "<div>\n",
       "<style>\n",
       "    .dataframe thead tr:only-child th {\n",
       "        text-align: right;\n",
       "    }\n",
       "\n",
       "    .dataframe thead th {\n",
       "        text-align: left;\n",
       "    }\n",
       "\n",
       "    .dataframe tbody tr th {\n",
       "        vertical-align: top;\n",
       "    }\n",
       "</style>\n",
       "<table border=\"1\" class=\"dataframe\">\n",
       "  <thead>\n",
       "    <tr style=\"text-align: right;\">\n",
       "      <th></th>\n",
       "      <th>frame</th>\n",
       "      <th>max_intensity</th>\n",
       "      <th>x</th>\n",
       "      <th>y</th>\n",
       "    </tr>\n",
       "  </thead>\n",
       "  <tbody>\n",
       "    <tr>\n",
       "      <th>0</th>\n",
       "      <td>1</td>\n",
       "      <td>2111</td>\n",
       "      <td>201.0</td>\n",
       "      <td>204.0</td>\n",
       "    </tr>\n",
       "    <tr>\n",
       "      <th>0</th>\n",
       "      <td>1</td>\n",
       "      <td>2406</td>\n",
       "      <td>190.0</td>\n",
       "      <td>23.0</td>\n",
       "    </tr>\n",
       "  </tbody>\n",
       "</table>\n",
       "</div>"
      ],
      "text/plain": [
       "   frame  max_intensity      x      y\n",
       "0      1           2111  201.0  204.0\n",
       "0      1           2406  190.0   23.0"
      ]
     },
     "execution_count": 78,
     "metadata": {},
     "output_type": "execute_result"
    }
   ],
   "source": [
    "features"
   ]
  },
  {
   "cell_type": "code",
   "execution_count": null,
   "metadata": {},
   "outputs": [],
   "source": []
  }
 ],
 "metadata": {
  "anaconda-cloud": {},
  "kernelspec": {
   "display_name": "Python 3",
   "language": "python",
   "name": "python3"
  },
  "language_info": {
   "codemirror_mode": {
    "name": "ipython",
    "version": 3
   },
   "file_extension": ".py",
   "mimetype": "text/x-python",
   "name": "python",
   "nbconvert_exporter": "python",
   "pygments_lexer": "ipython3",
   "version": "3.6.5"
  },
  "varInspector": {
   "cols": {
    "lenName": 16,
    "lenType": 16,
    "lenVar": 40
   },
   "kernels_config": {
    "python": {
     "delete_cmd_postfix": "",
     "delete_cmd_prefix": "del ",
     "library": "var_list.py",
     "varRefreshCmd": "print(var_dic_list())"
    },
    "r": {
     "delete_cmd_postfix": ") ",
     "delete_cmd_prefix": "rm(",
     "library": "var_list.r",
     "varRefreshCmd": "cat(var_dic_list()) "
    }
   },
   "types_to_exclude": [
    "module",
    "function",
    "builtin_function_or_method",
    "instance",
    "_Feature"
   ],
   "window_display": false
  }
 },
 "nbformat": 4,
 "nbformat_minor": 2
}
