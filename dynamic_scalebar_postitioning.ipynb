{
 "cells": [
  {
   "cell_type": "markdown",
   "metadata": {},
   "source": [
    "## positioning a scale bar with relative postions \n",
    "it automatically finds the nearest scalebar using [1,2,5] as starting digits\n",
    "only params to set are: \n",
    "\n",
    "(once)\n",
    "- relative right edge distance := scalebar_right_edge_k\n",
    "- relative bottom edge distance := scalebar_bot_pos_k  -----   can be set to 1-scalebar_right_edge_k for symmetry\n",
    "- relative scalebar height := scalebar_height_k\n",
    "\n",
    "(by case)\n",
    "- mu_per_plx or ydim := H_i\n",
    "- length unit\n",
    "\n",
    "\n"
   ]
  },
  {
   "cell_type": "code",
   "execution_count": 240,
   "metadata": {},
   "outputs": [
    {
     "name": "stdout",
     "output_type": "stream",
     "text": [
      "scale_m = 10 µm    from 8.0\n"
     ]
    }
   ],
   "source": [
    "import numpy as np\n",
    "#  *_m stand for length unit\n",
    "#  *_i stands for int/pxl/index\n",
    "#  *_k satnds for relative to whole image\n",
    "\n",
    "\n",
    "# this has to be set by user\n",
    "mu_per_pxl = 0.03  # µm/pxl\n",
    "unit = 'µm'# is written in the plot\n",
    "\n",
    "# put image dims here\n",
    "W_i = 300 #xdim  # width of the image in pxl\n",
    "H_i = 200 #ydim  # Height of the image in pxl\n",
    "\n",
    "# which one is given?\n",
    "W_m_given = True\n",
    "mu_per_pxl_given = np.invert(W_m_given)\n",
    "if W_m_given:\n",
    "    W_m = 80 #µm\n",
    "    mu_per_pxl = W_m/W_i\n",
    "\n",
    "elif mu_per_pxl_given:\n",
    "    mu_per_pxl = 0.03\n",
    "    W_m = W_i * mu_per_pxl\n",
    "\n",
    "# set the scale\n",
    "suggested_relative_scalebar_width = 0.1\n",
    "allowed_first_digit = np.array([1,2,5,10]) # the 10 in here is important (the numbersystem fliping point or whaterver its called)\n",
    "\n",
    "suggested_scale_m = ( 10**int('{:.0e}'.format(W_m * suggested_relative_scalebar_width)[2:]) \n",
    "                     * allowed_first_digit[\n",
    "                         np.abs(int('{:.0e}'.format(W_m * suggested_relative_scalebar_width)[0])-allowed_first_digit).min()\n",
    "                         == np.abs(int('{:.0e}'.format(W_m * suggested_relative_scalebar_width)[0])-allowed_first_digit)\n",
    "                     ][0]\n",
    "                    )\n",
    "scale_m = suggested_scale_m\n",
    "scale_i = scale_m/mu_per_pxl\n",
    "print('scale_m = {} {}    from {}'.format(scale_m, unit, W_m * suggested_relative_scalebar_width))\n",
    "\n",
    "\n",
    "#set scalebar position\n",
    "scalebar_right_edge_k = 0.93\n",
    "scalebar_bot_pos_k = 1-scalebar_right_edge_k # 0.07 \n",
    "scalebar_height_k = 0.03\n",
    "scalebar_height_i = H_i * 0.03   # here one has to figure out how linewidth is related to pxlsize in e.g. QT\n",
    "scalebar_length_i = scale_m / mu_per_pxl\n",
    "left_scale_x_i = scalebar_right_edge_k * W_i\n",
    "left_scale_y_i = scalebar_bot_pos_k * H_i + scalebar_height_i/2\n",
    "right_scale_x_i = scalebar_right_edge_k * W_i - scale_i\n",
    "right_scale_y_i = scalebar_bot_pos_k * H_i + scalebar_height_i/2\n",
    "text_x_i = 1/2 * (right_scale_x_i + left_scale_x_i)\n",
    "text_y_i = left_scale_y_i + scalebar_height_i*2 # relative to height of scalebar\n",
    "text_size = scalebar_height_i # t# here one has to figure out how fontsize is related to pxlsize in e.g. QT"
   ]
  },
  {
   "cell_type": "code",
   "execution_count": 241,
   "metadata": {},
   "outputs": [],
   "source": [
    "from matplotlib import pyplot as plt\n",
    "%matplotlib inline\n",
    "%config InlineBackend.figure_format = 'retina'"
   ]
  },
  {
   "cell_type": "code",
   "execution_count": 242,
   "metadata": {},
   "outputs": [
    {
     "data": {
      "image/png": "[encoded data removed]",
      "text/plain": [
       "<Figure size 432x288 with 1 Axes>"
      ]
     },
     "metadata": {
      "image/png": {
       "height": 265,
       "width": 385
      },
      "needs_background": "light"
     },
     "output_type": "display_data"
    }
   ],
   "source": [
    "\n",
    "plt.figure()\n",
    "plt.plot([left_scale_x_i, right_scale_x_i],[left_scale_y_i,right_scale_y_i], lw = scalebar_height_i,c='k')\n",
    "plt.text(scale_text_x_i, scale_text_y_i,'{} '.format(scale_m)+unit, horizontalalignment = 'center')\n",
    "plt.xlim(left = 0, right = W_i)\n",
    "plt.ylim(bottom = 0, top = H_i)\n",
    "plt.xlabel('plx')\n",
    "\n",
    "plt.show()"
   ]
  }
 ],
 "metadata": {
  "kernelspec": {
   "display_name": "Python 3",
   "language": "python",
   "name": "python3"
  },
  "language_info": {
   "codemirror_mode": {
    "name": "ipython",
    "version": 3
   },
   "file_extension": ".py",
   "mimetype": "text/x-python",
   "name": "python",
   "nbconvert_exporter": "python",
   "pygments_lexer": "ipython3",
   "version": "3.5.5"
  }
 },
 "nbformat": 4,
 "nbformat_minor": 2
}
